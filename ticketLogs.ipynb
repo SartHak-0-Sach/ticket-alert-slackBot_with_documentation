{
 "cells": [
  {
   "cell_type": "code",
   "execution_count": null,
   "id": "c6d78651",
   "metadata": {},
   "outputs": [],
   "source": [
    "import os, sys\n",
    "sys.path.append('../utils')\n",
    "import pandas as pd\n",
    "import numpy as np\n",
    "from queryHelper import prodFetch, adbFetch\n",
    "from databaseHelper import *\n",
    "from sheetHelper import *\n",
    "from datetime import timedelta\n",
    "import psycopg2\n",
    "from datetime import datetime\n",
    "from openpyxl import Workbook"
   ]
  },
  {
   "cell_type": "code",
   "execution_count": null,
   "id": "b5e6002c",
   "metadata": {},
   "outputs": [],
   "source": [
    "conn = psycopg2.connect(dbname = \"operations_manager_prod\", user = \"sarthak_sachdev\", password = \"Sarthak@12345\", host = \"operation.replica.upgrid.in\", port = \"5432\")\n",
    "\n",
    "print('PostgreSQL Connection Established')\n",
    "\n",
    "query1 = '''\n",
    "select id from logs where to_value = 'completed' and (created_at + INTERVAL '330 minutes')::DATE >= '20250401'\n",
    "'''\n",
    "\n",
    "dfTicketLogs = pd.read_sql(query1, conn)\n",
    "\n",
    "query2 = '''\n",
    "select id, parent_id as task_id from tasks where (created_at + INTERVAL '330 minutes')::DATE >= '20250401'\n",
    "'''\n",
    "\n",
    "dfTasks = pd.read_sql(query2, conn)\n",
    "\n",
    "query3 = '''\n",
    "select task_id, slug as ticket_id from tickets where (created_at + INTERVAL '330 minutes')::DATE >= '20250401'\n",
    "'''\n",
    "\n",
    "dfTicket = pd.read_sql(query3, conn)\n",
    "\n",
    "conn.close()\n",
    "\n",
    "dfTicketLogs"
   ]
  },
  {
   "cell_type": "code",
   "execution_count": null,
   "id": "a6c3a750",
   "metadata": {},
   "outputs": [],
   "source": [
    "dfTasks"
   ]
  },
  {
   "cell_type": "code",
   "execution_count": null,
   "id": "f677b65f",
   "metadata": {},
   "outputs": [],
   "source": [
    "dfTicket"
   ]
  },
  {
   "cell_type": "code",
   "execution_count": null,
   "id": "bd8048f8",
   "metadata": {},
   "outputs": [],
   "source": [
    "merged = dfTicketLogs.merge(dfTasks, how='left', on='id').merge(dfTicket, how='left', on='task_id')\n",
    "\n",
    "merged = merged.dropna()\n",
    "\n",
    "merged"
   ]
  },
  {
   "cell_type": "code",
   "execution_count": null,
   "id": "1f69d75d",
   "metadata": {},
   "outputs": [],
   "source": [
    "dfTickets = adbFetch(\"\"\"select ticket_id, complainant_zone as zone from ticketModelNew where assigned_to_team = 'F-Ops' and date >= '20250401' and source in ('Inbound', 'Whatsapp', 'driverApp') and complainant_type = 'driver' and complainant_zone in ('MVA03', 'MVA05')\"\"\")\n",
    "\n",
    "dfTickets"
   ]
  },
  {
   "cell_type": "code",
   "execution_count": null,
   "id": "249caeb0",
   "metadata": {},
   "outputs": [],
   "source": [
    "ticketsMerged = dfTickets.merge(merged, how = 'left', on='ticket_id')\n",
    "\n",
    "ticketsMerged = ticketsMerged.dropna()\n",
    "\n",
    "ticketsMerged"
   ]
  },
  {
   "cell_type": "code",
   "execution_count": null,
   "id": "3ac7634d",
   "metadata": {},
   "outputs": [],
   "source": [
    "ticketsGrouped = ticketsMerged.groupby('zone').agg(\n",
    "    zonewiseTicketCount = ('ticket_id', 'count') \n",
    ")\n",
    "\n",
    "ticketsGrouped"
   ]
  }
 ],
 "metadata": {
  "kernelspec": {
   "display_name": "Python 3",
   "language": "python",
   "name": "python3"
  },
  "language_info": {
   "codemirror_mode": {
    "name": "ipython",
    "version": 3
   },
   "file_extension": ".py",
   "mimetype": "text/x-python",
   "name": "python",
   "nbconvert_exporter": "python",
   "pygments_lexer": "ipython3",
   "version": "3.10.12"
  }
 },
 "nbformat": 4,
 "nbformat_minor": 5
}
