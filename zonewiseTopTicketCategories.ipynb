{
 "cells": [
  {
   "cell_type": "code",
   "execution_count": null,
   "id": "abab111f",
   "metadata": {},
   "outputs": [],
   "source": [
    "import os, sys\n",
    "sys.path.append('../utils')\n",
    "import pandas as pd\n",
    "import numpy as np\n",
    "from queryHelper import prodFetch, adbFetch\n",
    "from databaseHelper import *\n",
    "from sheetHelper import *\n",
    "from datetime import timedelta\n",
    "import psycopg2\n",
    "from datetime import datetime\n",
    "from openpyxl import Workbook"
   ]
  },
  {
   "cell_type": "code",
   "execution_count": null,
   "id": "b7ffed39",
   "metadata": {},
   "outputs": [],
   "source": [
    "conn = psycopg2.connect(dbname = \"operations_manager_prod\", user = \"sarthak_sachdev\", password = \"Sarthak@12345\", host = \"operation.replica.upgrid.in\", port = \"5432\")\n",
    "\n",
    "print('PostgreSQL Connection Established')\n",
    "\n",
    "query1 = '''\n",
    "select (created_at + INTERVAL '330 minutes')::DATE as date, complainant_id as driverId, issue_id from tickets where deleted_at is null and source in ('Inbound', 'Whatsapp', 'driverApp', 'partnerApp', 'SOS') and complainant_type = '1' and (created_at + INTERVAL '330 minutes')::DATE >= '20250201'\n",
    "'''\n",
    "\n",
    "dfTickets = pd.read_sql(query1, conn)\n",
    "\n",
    "conn.close()\n",
    "\n",
    "dfTickets"
   ]
  },
  {
   "cell_type": "code",
   "execution_count": null,
   "id": "8030e3b1",
   "metadata": {},
   "outputs": [],
   "source": [
    "dfTickets.sort_values(by = ['date'], ascending = True, inplace = True)\n",
    "dfTickets = dfTickets.reset_index(drop=True)\n",
    "\n",
    "dfTickets"
   ]
  },
  {
   "cell_type": "code",
   "execution_count": null,
   "id": "deb85130",
   "metadata": {},
   "outputs": [],
   "source": [
    "conn = psycopg2.connect(dbname = \"operations_manager_prod\", user = \"sarthak_sachdev\", password = \"Sarthak@12345\", host = \"operation.replica.upgrid.in\", port = \"5432\")\n",
    "\n",
    "print('PostgreSQL Connection Established')\n",
    "\n",
    "query2 = '''\n",
    "select id as issue_id, name as issue_name, issue_category_id from issues where deleted_at is null\n",
    "'''\n",
    "\n",
    "dfIssues = pd.read_sql(query2, conn)\n",
    "\n",
    "conn.close()\n",
    "\n",
    "print(dfIssues)\n",
    "\n",
    "conn = psycopg2.connect(dbname = \"operations_manager_prod\", user = \"sarthak_sachdev\", password = \"Sarthak@12345\", host = \"operation.replica.upgrid.in\", port = \"5432\")\n",
    "\n",
    "print('PostgreSQL Connection Established')\n",
    "\n",
    "query3 = '''\n",
    "select id as issue_category_id, name as category_name from issue_categories where deleted_at is null\n",
    "'''\n",
    "\n",
    "dfCategories = pd.read_sql(query3, conn)\n",
    "\n",
    "conn.close()\n",
    "\n",
    "print(dfCategories)"
   ]
  },
  {
   "cell_type": "code",
   "execution_count": null,
   "id": "6eebdad4",
   "metadata": {},
   "outputs": [],
   "source": [
    "dfTickets = dfTickets.merge(dfIssues, how='left', on = 'issue_id')\n",
    "\n",
    "dfTickets = dfTickets.merge(dfCategories, how = 'left', on = 'issue_category_id')\n",
    "\n",
    "dfTickets"
   ]
  },
  {
   "cell_type": "code",
   "execution_count": null,
   "id": "5906938b",
   "metadata": {},
   "outputs": [],
   "source": [
    "dfTickets.drop(columns = ['issue_category_id', 'issue_id'], inplace= True)\n",
    "\n",
    "dfTickets.dropna(inplace=True)\n",
    "\n",
    "dfTickets"
   ]
  },
  {
   "cell_type": "code",
   "execution_count": null,
   "id": "a8e4f344",
   "metadata": {},
   "outputs": [],
   "source": [
    "dfDrivers = prodFetch(\"\"\"select id, zoneId as driverZone from drivers \"\"\")\n",
    "\n",
    "dfTickets = dfTickets.merge(dfDrivers, left_on = 'driverid', right_on = 'id', how = 'left').drop(columns = ['id'])\n",
    "\n",
    "dfTickets"
   ]
  },
  {
   "cell_type": "code",
   "execution_count": null,
   "id": "937cc7c9",
   "metadata": {},
   "outputs": [],
   "source": [
    "dfTxns = prodFetch(\"\"\"select date_format(date, '%Y-%m') month, date, driverId, 1 as opsFlag, count(*) as txns from transactions where deletedAt is null and clientId in ('BS00') and date >= '20250201' group by month, date, driverId\"\"\")\n",
    "\n",
    "dfTxns"
   ]
  },
  {
   "cell_type": "code",
   "execution_count": null,
   "id": "888591c5",
   "metadata": {},
   "outputs": [],
   "source": [
    "dfTxns"
   ]
  },
  {
   "cell_type": "code",
   "execution_count": null,
   "id": "1dd95305",
   "metadata": {},
   "outputs": [],
   "source": [
    "dfTickets.rename(columns={'driverid': 'driverId'}, inplace=True)\n",
    "dfTickets"
   ]
  },
  {
   "cell_type": "code",
   "execution_count": null,
   "id": "24ee86b1",
   "metadata": {},
   "outputs": [],
   "source": [
    "dfTickets['date'] = pd.to_datetime(dfTickets['date'])\n",
    "dfTxns['date'] = pd.to_datetime(dfTxns['date'])"
   ]
  },
  {
   "cell_type": "code",
   "execution_count": null,
   "id": "2f78a28a",
   "metadata": {},
   "outputs": [],
   "source": [
    "dfTickets.info()"
   ]
  },
  {
   "cell_type": "code",
   "execution_count": null,
   "id": "a3bc052c",
   "metadata": {},
   "outputs": [],
   "source": [
    "dfTxns.info()"
   ]
  },
  {
   "cell_type": "code",
   "execution_count": null,
   "id": "28bc93eb",
   "metadata": {},
   "outputs": [],
   "source": [
    "dfTicketsFinal = dfTickets.merge(dfTxns[['driverId', 'date', 'opsFlag', 'txns']], how = 'left', on=['driverId', 'date']).fillna(0)\n",
    "\n",
    "dfTicketsFinal"
   ]
  },
  {
   "cell_type": "code",
   "execution_count": null,
   "id": "ae7fa839",
   "metadata": {},
   "outputs": [],
   "source": [
    "dfTicketsFinal['month'] = dfTicketsFinal['date'].dt.strftime('%Y-%m')\n",
    "dfTicketsFinal"
   ]
  },
  {
   "cell_type": "code",
   "execution_count": null,
   "id": "318a56c0",
   "metadata": {},
   "outputs": [],
   "source": [
    "dfTicketsFinal.describe()"
   ]
  },
  {
   "cell_type": "code",
   "execution_count": null,
   "id": "f5458f64",
   "metadata": {},
   "outputs": [],
   "source": [
    "dfDrivers = adbFetch(\"\"\"select date_format(date, '%Y-%m') month, zoneId, count(distinct driverId) as totalDrivers from dailyDriversHistories force index(dailyDriversHistories_date_driverId_unique) where date >= '20250201' and deletedAt is NULL and driverId like 'D%' and isBaasDriver != 1 and clientId = 'BS00' and status in ('active', 'inactive') group by month, zoneId\"\"\")\n",
    "\n",
    "dfDrivers"
   ]
  },
  {
   "cell_type": "code",
   "execution_count": null,
   "id": "8f6f7cb1",
   "metadata": {},
   "outputs": [],
   "source": [
    "dfdsh = prodFetch(\"\"\"select date_format(date, '%Y-%m') month, date, driverId, status from driverStatusHistories force index(driverId) where driverId like 'D%' and date >= '20250201' and deletedAt is null and status in ('active') and isBaasDriver != 1 and isDeliveryDriver != 1 \"\"\")\n",
    "\n",
    "dfdsh"
   ]
  },
  {
   "cell_type": "code",
   "execution_count": null,
   "id": "f1918966",
   "metadata": {},
   "outputs": [],
   "source": [
    "dfDriver = prodFetch(\"\"\"select id as driverId, zoneId from drivers\"\"\")\n",
    "\n",
    "dfDshFinal = dfdsh.merge(dfDriver, how='left', on=['driverId'])\n",
    "\n",
    "dfDshFinal"
   ]
  },
  {
   "cell_type": "code",
   "execution_count": null,
   "id": "24484dfa",
   "metadata": {},
   "outputs": [],
   "source": [
    "dailyActiveDriversCount = dfDshFinal[dfDshFinal['status'] == 'active'].groupby(['date', 'zoneId']).agg(\n",
    "    totalActiveDrivers=('driverId', 'nunique')\n",
    ").reset_index()\n",
    "\n",
    "dailyActiveDriversCount['month'] = pd.to_datetime(dailyActiveDriversCount['date']).dt.strftime('%Y-%m')\n",
    "\n",
    "monthlyActiveDriversCount = dailyActiveDriversCount.groupby(['month', 'zoneId']).agg(\n",
    "    totalActiveDrivers=('totalActiveDrivers', 'sum')\n",
    ").reset_index()"
   ]
  },
  {
   "cell_type": "code",
   "execution_count": null,
   "id": "435ac14a",
   "metadata": {},
   "outputs": [],
   "source": [
    "monthlyActiveDriversCount"
   ]
  },
  {
   "cell_type": "code",
   "execution_count": null,
   "id": "a08de473",
   "metadata": {},
   "outputs": [],
   "source": [
    "april_data = dfTicketsFinal[dfTicketsFinal['month'] == '2025-04']\n",
    "\n",
    "zone_ticket_counts = april_data.groupby('zoneId').size()\n",
    "\n",
    "top_10_zones = zone_ticket_counts.sort_values(ascending=False).head(10)\n",
    "\n",
    "ops_driver_counts = april_data[april_data['opsFlag'] == 1].groupby('zoneId')['driverId'].nunique()"
   ]
  },
  {
   "cell_type": "code",
   "execution_count": null,
   "id": "33860bb4",
   "metadata": {},
   "outputs": [],
   "source": [
    "result_top_10_zones = pd.DataFrame({\n",
    "    'ticketCount': zone_ticket_counts[top_10_zones.index],\n",
    "    'driverCount': dfDrivers['totalDrivers'],\n",
    "    'activeDriverCount': monthlyActiveDriversCount['totalActiveDrivers'],\n",
    "    'opsDriverCount': ops_driver_counts,\n",
    "    'UDRT': april_data.groupby('zoneId')['2025-04 UDRT'].sum(),\n",
    "    'totalTxns': april_data.groupby('zoneId')['2025-04 totalTxns'].sum()\n",
    "})\n",
    "\n",
    "result_top_10_zones['ops/activePercentage'] = \n",
    "total_ticket_count = april_data['2025-04 tickets'].sum()\n",
    "result_top_10_zones['ticketCountPercentage'] = (result_top_10_zones['ticketCount'] / total_ticket_count) * 100\n",
    "\n",
    "result_top_10_zones"
   ]
  },
  {
   "cell_type": "code",
   "execution_count": null,
   "id": "0149b2ce",
   "metadata": {},
   "outputs": [],
   "source": [
    "march_data = dfTicketsFinal[dfTicketsFinal['month'] == '2025-03']\n",
    "april_data = dfTicketsFinal[dfTicketsFinal['month'] == '2025-04']\n",
    "\n",
    "march_category_counts = march_data.groupby(['zoneId', 'category_name'])['2025-03 tickets'].sum()\n",
    "april_category_counts = april_data.groupby(['zoneId', 'category_name'])['2025-04 tickets'].sum()\n",
    "\n",
    "category_increase = april_category_counts - march_category_counts\n",
    "\n",
    "top_10_zones_categories = category_increase[category_increase.index.get_level_values('zoneId').isin(top_10_zones.index)]\n",
    "\n",
    "top_10_categories = top_10_zones_categories.groupby('category_name').sum().sort_values(ascending=False).head(10)\n",
    "\n",
    "top_categories_data = april_data[april_data['category_name'].isin(top_10_categories.index)]\n",
    "category_summary = top_categories_data.groupby(['zoneId', 'category_name']).agg({\n",
    "    '2025-04 tickets': 'sum',\n",
    "    '2025-04 UDRT': 'sum',\n",
    "    '2025-04 UDT': 'sum',\n",
    "    '2025-04 totalTxns': 'sum'\n",
    "})\n",
    "\n",
    "category_summary"
   ]
  },
  {
   "cell_type": "code",
   "execution_count": null,
   "id": "fbe0e0be",
   "metadata": {},
   "outputs": [],
   "source": [
    "april_data = dfTicketsFinal[dfTicketsFinal['month'] == '2025-04']\n",
    "\n",
    "daywise_data = april_data.groupby(['date', 'driverZone', 'category_name'])['2025-04 tickets'].sum().reset_index()\n",
    "\n",
    "daywise_stats = daywise_data.groupby(['driverZone', 'category_name'])['2025-04 tickets'].agg(['mean', 'std'])\n",
    "\n",
    "daywise_data['score'] = daywise_data.apply(\n",
    "    lambda row: abs(row['2025-04 tickets'] - daywise_stats.loc[(row['driverZone'], row['category_name']), 'mean']) / \n",
    "                daywise_stats.loc[(row['driverZone'], row['category_name']), 'std'], axis=1)\n",
    "\n",
    "sorted_daywise_data = daywise_data.sort_values(by='score', ascending=False)\n",
    "\n",
    "sorted_daywise_data"
   ]
  },
  {
   "cell_type": "code",
   "execution_count": null,
   "id": "66474d9c",
   "metadata": {},
   "outputs": [],
   "source": [
    "last_3_months = dfTicketsFinal[dfTicketsFinal['month'].isin(['2025-02', '2025-03', '2025-04'])]\n",
    "\n",
    "issue_counts = last_3_months.groupby(['category_name', 'issue_name', 'month'])['tickets'].sum().reset_index()\n",
    "\n",
    "issue_counts['rank'] = issue_counts.groupby(['category_name', 'issue_name'])['tickets'].rank(ascending=False)\n",
    "\n",
    "issue_rank_sum = issue_counts.groupby(['category_name', 'issue_name'])['rank'].sum()\n",
    "\n",
    "sorted_issues = issue_rank_sum.sort_values().reset_index()\n",
    "\n",
    "sorted_issues"
   ]
  },
  {
   "cell_type": "markdown",
   "id": "4ba16bd6",
   "metadata": {},
   "source": [
    "# ------------------------------------"
   ]
  },
  {
   "cell_type": "code",
   "execution_count": null,
   "id": "8fcdb71b",
   "metadata": {},
   "outputs": [],
   "source": [
    "category_ticket_counts = dfTicketsFinal.groupby(['month', 'category_name']).size().reset_index(name='ticketCount')\n",
    "\n",
    "category_ticket_counts = category_ticket_counts[category_ticket_counts['month'] != '2025-02']\n",
    "\n",
    "category_ticket_counts"
   ]
  },
  {
   "cell_type": "code",
   "execution_count": null,
   "id": "dac475c0",
   "metadata": {},
   "outputs": [],
   "source": [
    "category_ticket_counts_pivot = category_ticket_counts.pivot_table(\n",
    "    index='category_name', \n",
    "    columns='month', \n",
    "    values='ticketCount', \n",
    "    aggfunc='sum', \n",
    "    fill_value=0\n",
    ")\n",
    "\n",
    "category_ticket_counts_pivot['ticketCountDifference'] = category_ticket_counts_pivot['2025-04'] - category_ticket_counts_pivot['2025-03']\n",
    "\n",
    "category_ticket_counts_sorted = category_ticket_counts_pivot.sort_values(by='ticketCountDifference', ascending=False)\n",
    "\n",
    "category_ticket_counts_sorted"
   ]
  },
  {
   "cell_type": "code",
   "execution_count": null,
   "id": "747fc186",
   "metadata": {},
   "outputs": [],
   "source": [
    "category_ticket_counts_sorted = category_ticket_counts_sorted.reset_index()\n",
    "\n",
    "category_ticket_counts_sorted"
   ]
  },
  {
   "cell_type": "code",
   "execution_count": null,
   "id": "5d55b5d7",
   "metadata": {},
   "outputs": [],
   "source": [
    "write(\"https://docs.google.com/spreadsheets/d/1V6K9cTJplBdFxUIX414xqDN1TetXZwm2GNjrvA7JSNI/edit?gid=0#gid=0\", \"march vs april ticket count\", category_ticket_counts_sorted)"
   ]
  },
  {
   "cell_type": "code",
   "execution_count": null,
   "id": "e102d02f",
   "metadata": {},
   "outputs": [],
   "source": [
    "top_10_categories = category_ticket_counts_sorted.head(10)['category_name']\n",
    "\n",
    "df_filtered_categories = dfTicketsFinal[dfTicketsFinal['category_name'].isin(top_10_categories)]\n",
    "\n",
    "result_list = []\n",
    "\n",
    "for category in top_10_categories:\n",
    "    category_data = df_filtered_categories[df_filtered_categories['category_name'] == category]\n",
    "\n",
    "    zone_ticket_counts = category_data.groupby('driverZone').size().sort_values(ascending=False).head(10)\n",
    "\n",
    "    top_10_zones = zone_ticket_counts.index\n",
    "\n",
    "    result = pd.DataFrame({\n",
    "        'ticketCount': zone_ticket_counts,\n",
    "        'ticketCountPercentage': (zone_ticket_counts / category_data.shape[0]) * 100,\n",
    "        'opsDriverCount': category_data[category_data['opsFlag'] == 1].groupby('driverZone')['driverId'].nunique().loc[top_10_zones],\n",
    "        'UDRT': category_data.groupby('driverZone')['driverId'].nunique().loc[top_10_zones],\n",
    "        'totalTxns': category_data.groupby('driverZone')['txns'].sum().loc[top_10_zones]\n",
    "    })\n",
    "\n",
    "    result['category_name'] = category\n",
    "    result_list.append(result)\n",
    "\n",
    "final_result = pd.concat(result_list)\n",
    "\n",
    "final_result.reset_index(inplace=True)\n",
    "final_result"
   ]
  },
  {
   "cell_type": "code",
   "execution_count": null,
   "id": "9f585108",
   "metadata": {},
   "outputs": [],
   "source": [
    "final_result.sort_values(['driverZone','ticketCount'], ascending=False, inplace=True)\n",
    "final_result.reset_index(drop=True, inplace=True)\n",
    "final_result"
   ]
  },
  {
   "cell_type": "code",
   "execution_count": null,
   "id": "7bee20e1",
   "metadata": {},
   "outputs": [],
   "source": [
    "write(\"https://docs.google.com/spreadsheets/d/1V6K9cTJplBdFxUIX414xqDN1TetXZwm2GNjrvA7JSNI/edit?gid=1436888172#gid=1436888172\", \"top 10 category's top 10 zones\", final_result)"
   ]
  },
  {
   "cell_type": "code",
   "execution_count": null,
   "id": "2e9742db",
   "metadata": {},
   "outputs": [],
   "source": [
    "top_10_categories = category_ticket_counts_sorted.head(10)['category_name']\n",
    "\n",
    "april_data = dfTicketsFinal[(dfTicketsFinal['month'] == '2025-04') & (dfTicketsFinal['category_name'].isin(top_10_categories))]\n",
    "\n",
    "april_ticket_counts = april_data.groupby(['category_name', 'issue_name']).size().reset_index(name='ticketCount_April')\n",
    "\n",
    "march_data = dfTicketsFinal[(dfTicketsFinal['month'] == '2025-03') & (dfTicketsFinal['category_name'].isin(top_10_categories))]\n",
    "\n",
    "march_ticket_counts = march_data.groupby(['category_name', 'issue_name']).size().reset_index(name='ticketCount_March')\n",
    "\n",
    "merged_data = pd.merge(april_ticket_counts, march_ticket_counts, on=['category_name', 'issue_name'], how='left')\n",
    "\n",
    "merged_data['ticketCountDifference'] = merged_data['ticketCount_April'] - merged_data['ticketCount_March']\n",
    "\n",
    "increased_issues = merged_data[merged_data['ticketCountDifference'] > 0]\n",
    "\n",
    "sorted_increased_issues = increased_issues.sort_values(by='ticketCountDifference', ascending=False)\n",
    "\n",
    "sorted_increased_issues.reset_index(drop = True, inplace=True)\n",
    "sorted_increased_issues"
   ]
  },
  {
   "cell_type": "code",
   "execution_count": null,
   "id": "0d8fd8f3",
   "metadata": {},
   "outputs": [],
   "source": [
    "write(\"https://docs.google.com/spreadsheets/d/1V6K9cTJplBdFxUIX414xqDN1TetXZwm2GNjrvA7JSNI/edit?gid=1436888172#gid=1436888172\", \"issues where tickets increased since march\", sorted_increased_issues)"
   ]
  },
  {
   "cell_type": "code",
   "execution_count": null,
   "id": "c01aa740",
   "metadata": {},
   "outputs": [],
   "source": []
  },
  {
   "cell_type": "code",
   "execution_count": null,
   "id": "400dfefb",
   "metadata": {},
   "outputs": [],
   "source": []
  },
  {
   "cell_type": "code",
   "execution_count": null,
   "metadata": {},
   "outputs": [],
   "source": []
  },
  {
   "cell_type": "code",
   "execution_count": null,
   "id": "bbfc325d",
   "metadata": {},
   "outputs": [],
   "source": []
  },
  {
   "cell_type": "code",
   "execution_count": null,
   "id": "01a17ca0",
   "metadata": {},
   "outputs": [],
   "source": []
  },
  {
   "cell_type": "code",
   "execution_count": null,
   "metadata": {},
   "outputs": [],
   "source": []
  },
  {
   "cell_type": "code",
   "execution_count": null,
   "metadata": {},
   "outputs": [],
   "source": []
  },
  {
   "cell_type": "code",
   "execution_count": null,
   "id": "a221de86",
   "metadata": {},
   "outputs": [],
   "source": []
  },
  {
   "cell_type": "code",
   "execution_count": null,
   "id": "a8fd31f1",
   "metadata": {},
   "outputs": [],
   "source": []
  },
  {
   "cell_type": "code",
   "execution_count": null,
   "metadata": {},
   "outputs": [],
   "source": []
  },
  {
   "cell_type": "markdown",
   "id": "a89ffd76",
   "metadata": {},
   "source": [
    "# month-wise category-wise"
   ]
  },
  {
   "cell_type": "code",
   "execution_count": null,
   "id": "73b09e21",
   "metadata": {},
   "outputs": [],
   "source": [
    "monthly_category_summary = dfTicketsFinal.groupby(['month', 'category_name']).agg(\n",
    "    tickets=('driverId', 'count'),\n",
    "    UDRT=('driverId', 'nunique'),\n",
    "    UDT=('opsFlag', lambda x: dfTicketsFinal.loc[x.index][dfTicketsFinal['opsFlag'] == 1]['driverId'].nunique()),\n",
    "    totalTxns=('txns', 'sum')\n",
    ").reset_index()\n",
    "\n",
    "monthly_category_summary"
   ]
  },
  {
   "cell_type": "markdown",
   "id": "5fb9b65f",
   "metadata": {},
   "source": [
    "# monthwise categorywise for top 5 issues"
   ]
  },
  {
   "cell_type": "code",
   "execution_count": null,
   "id": "0682e4cc",
   "metadata": {},
   "outputs": [],
   "source": [
    "top_issues = (dfTicketsFinal.groupby(['month', 'category_name', 'issue_name'])\n",
    "              .size()\n",
    "              .reset_index(name='ticket_count')\n",
    "              .sort_values(['month', 'category_name', 'ticket_count'], ascending=[True, True, False]))\n",
    "\n",
    "top_issues = top_issues.groupby(['month', 'category_name']).head(5)\n",
    "\n",
    "dfTopIssues = dfTicketsFinal.merge(top_issues[['month', 'category_name', 'issue_name']], on=['month', 'category_name', 'issue_name'])\n",
    "\n",
    "monthly_issue_summary = dfTopIssues.groupby(['month', 'category_name', 'issue_name']).agg(\n",
    "    tickets=('driverId', 'count'),\n",
    "    UDRT=('driverId', 'nunique'),\n",
    "    UDT=('opsFlag', lambda x: dfTopIssues.loc[x.index][dfTopIssues['opsFlag'] == 1]['driverId'].nunique()),\n",
    "    totalTxns=('txns', 'sum'),\n",
    "    totalDrivers=('driverId', 'nunique')\n",
    ").reset_index()\n",
    "\n",
    "monthly_issue_summary"
   ]
  },
  {
   "cell_type": "markdown",
   "id": "a7825bdf",
   "metadata": {},
   "source": [
    "# daywise tickets count"
   ]
  },
  {
   "cell_type": "code",
   "execution_count": null,
   "id": "6dd6d716",
   "metadata": {},
   "outputs": [],
   "source": [
    "daily_ticket_count = dfTicketsFinal.groupby('date').agg(\n",
    "    tickets=('driverId', 'count')\n",
    ").reset_index()\n",
    "\n",
    "daily_ticket_count"
   ]
  },
  {
   "cell_type": "markdown",
   "id": "f246e06b",
   "metadata": {},
   "source": [
    "# zonewise monthly tickets"
   ]
  },
  {
   "cell_type": "code",
   "execution_count": null,
   "id": "818df7db",
   "metadata": {},
   "outputs": [],
   "source": [
    "zonewise_monthly_count = dfTicketsFinal.groupby(['driverZone', 'month']).agg(\n",
    "    tickets=('driverId', 'count')\n",
    ").reset_index()\n",
    "\n",
    "zonewise_monthly_count"
   ]
  },
  {
   "cell_type": "markdown",
   "id": "f1f497c9",
   "metadata": {},
   "source": [
    "# zonewise monthly categoryWise"
   ]
  },
  {
   "cell_type": "code",
   "execution_count": null,
   "id": "21c4fe23",
   "metadata": {},
   "outputs": [],
   "source": [
    "zonewise_monthly_category_count = dfTicketsFinal.groupby(['driverZone', 'month', 'category_name']).agg(\n",
    "    tickets=('driverId', 'count')\n",
    ").reset_index()\n",
    "\n",
    "zonewise_monthly_count"
   ]
  },
  {
   "cell_type": "markdown",
   "id": "39f6d0ca",
   "metadata": {},
   "source": [
    "# zonewise monthly categoryWise issuewise"
   ]
  },
  {
   "cell_type": "code",
   "execution_count": null,
   "id": "b7ecfef5",
   "metadata": {},
   "outputs": [],
   "source": [
    "zonewise_monthly_issue_count = dfTicketsFinal.groupby(['driverZone', 'month', 'issue_name']).agg(\n",
    "    tickets=('driverId', 'count')\n",
    ").reset_index()\n",
    "\n",
    "zonewise_monthly_issue_count"
   ]
  },
  {
   "cell_type": "markdown",
   "id": "70d1aae7",
   "metadata": {},
   "source": [
    "# zonewise datewise"
   ]
  },
  {
   "cell_type": "code",
   "execution_count": null,
   "id": "da074531",
   "metadata": {},
   "outputs": [],
   "source": [
    "zonewise_datewise_count = dfTicketsFinal.groupby(['driverZone', 'date']).agg(\n",
    "    tickets=('driverId', 'count')\n",
    ").reset_index()\n",
    "\n",
    "zonewise_datewise_count"
   ]
  },
  {
   "cell_type": "markdown",
   "id": "552bec58",
   "metadata": {},
   "source": [
    "# graphs"
   ]
  },
  {
   "cell_type": "code",
   "execution_count": null,
   "id": "eb3c9337",
   "metadata": {},
   "outputs": [],
   "source": [
    "import matplotlib.pyplot as plt\n",
    "import seaborn as sns\n",
    "\n",
    "sns.set(style=\"whitegrid\")  # Clean seaborn theme\n",
    "\n",
    "# 1. Monthly Category-wise Tickets\n",
    "def plot_monthly_category_summary(df):\n",
    "    plt.figure(figsize=(14, 6))\n",
    "    sns.barplot(data=df, x='month', y='tickets', hue='category_name')\n",
    "    plt.title('Monthly Category-wise Tickets')\n",
    "    plt.xticks(rotation=45)\n",
    "    plt.legend(title='Category', bbox_to_anchor=(1.05, 1), loc='upper left')\n",
    "    plt.tight_layout()\n",
    "    plt.show()\n",
    "\n",
    "# 2. Monthly Issue-wise for Top 5 Issues\n",
    "def plot_monthly_issue_summary(df):\n",
    "    g = sns.FacetGrid(df, col='category_name', col_wrap=3, height=5, sharey=False)\n",
    "    g.map_dataframe(sns.barplot, x='month', y='tickets', hue='issue_name', dodge=True)\n",
    "    g.set_titles('{col_name}')\n",
    "    g.add_legend(title='Issue Name')\n",
    "    plt.subplots_adjust(top=0.9)\n",
    "    g.fig.suptitle('Monthly Issue-wise Tickets (Top 5 Issues per Category)')\n",
    "    plt.show()\n",
    "\n",
    "# 3. Day-wise Tickets Created\n",
    "def plot_daily_ticket_count(df):\n",
    "    plt.figure(figsize=(16, 6))\n",
    "    sns.lineplot(data=df, x='date', y='tickets', marker='o')\n",
    "    plt.title('Daily Ticket Creation Trend')\n",
    "    plt.xticks(rotation=45)\n",
    "    plt.tight_layout()\n",
    "    plt.show()\n",
    "\n",
    "# 4. Zone-wise Monthly Tickets\n",
    "def plot_zonewise_monthly_count(df):\n",
    "    plt.figure(figsize=(14, 6))\n",
    "    sns.barplot(data=df, x='month', y='tickets', hue='driverZone')\n",
    "    plt.title('Zone-wise Monthly Ticket Counts')\n",
    "    plt.xticks(rotation=45)\n",
    "    plt.legend(title='Zone', bbox_to_anchor=(1.05, 1), loc='upper left')\n",
    "    plt.tight_layout()\n",
    "    plt.show()\n",
    "\n",
    "# 5. Zone-wise Monthly Category-wise Tickets\n",
    "def plot_zonewise_monthly_category_count(df):\n",
    "    g = sns.FacetGrid(df, col='driverZone', col_wrap=3, height=5, sharey=False)\n",
    "    g.map_dataframe(sns.barplot, x='month', y='tickets', hue='category_name')\n",
    "    g.set_titles('Zone: {col_name}')\n",
    "    g.add_legend(title='Category')\n",
    "    plt.subplots_adjust(top=0.9)\n",
    "    g.fig.suptitle('Zone-wise Monthly Category Ticket Counts')\n",
    "    plt.show()\n",
    "\n",
    "# 6. Zone-wise Monthly Issue-wise Tickets\n",
    "def plot_zonewise_monthly_issue_count(df):\n",
    "    g = sns.FacetGrid(df, col='driverZone', col_wrap=3, height=5, sharey=False)\n",
    "    g.map_dataframe(sns.barplot, x='month', y='tickets', hue='issue_name')\n",
    "    g.set_titles('Zone: {col_name}')\n",
    "    g.add_legend(title='Issue Name')\n",
    "    plt.subplots_adjust(top=0.9)\n",
    "    g.fig.suptitle('Zone-wise Monthly Issue Ticket Counts')\n",
    "    plt.show()\n",
    "\n",
    "# 7. Zone-wise Date-wise Tickets\n",
    "def plot_zonewise_datewise_count(df):\n",
    "    plt.figure(figsize=(16, 6))\n",
    "    sns.lineplot(data=df, x='date', y='tickets', hue='driverZone', marker='o')\n",
    "    plt.title('Zone-wise Daily Ticket Trend')\n",
    "    plt.xticks(rotation=45)\n",
    "    plt.tight_layout()\n",
    "    plt.show()\n"
   ]
  },
  {
   "cell_type": "code",
   "execution_count": null,
   "id": "51f7c778",
   "metadata": {},
   "outputs": [],
   "source": [
    "# plot_monthly_category_summary(monthly_category_summary)\n",
    "# plot_monthly_issue_summary(monthly_issue_summary)\n",
    "# plot_daily_ticket_count(daily_ticket_count)\n",
    "# plot_zonewise_monthly_count(zonewise_monthly_count)\n",
    "# plot_zonewise_monthly_category_count(zonewise_monthly_category_count)\n",
    "# plot_zonewise_monthly_issue_count(zonewise_monthly_issue_count)\n",
    "# plot_zonewise_datewise_count(zonewise_datewise_count)"
   ]
  },
  {
   "cell_type": "code",
   "execution_count": null,
   "id": "4c78be7b",
   "metadata": {},
   "outputs": [],
   "source": [
    "top_issues_zone_category = (dfTicketsFinal.groupby(['month', 'driverZone', 'category_name', 'issue_name'])\n",
    "                            .size()\n",
    "                            .reset_index(name='ticket_count')\n",
    "                            .sort_values(['month', 'driverZone', 'category_name', 'ticket_count'], ascending=[True, True, True, False]))\n",
    "\n",
    "top_issues_zone_category = top_issues_zone_category.groupby(['month', 'driverZone', 'category_name']).head(5)\n",
    "\n",
    "dfTopIssuesZC = dfTicketsFinal.merge(\n",
    "    top_issues_zone_category[['month', 'driverZone', 'category_name', 'issue_name']],\n",
    "    on=['month', 'driverZone', 'category_name', 'issue_name']\n",
    ")\n",
    "\n",
    "agg_top_issues_zc = dfTopIssuesZC.groupby(['driverZone', 'category_name', 'issue_name', 'month']).agg(\n",
    "    tickets=('driverId', 'count'),\n",
    "    UDRT=('driverId', 'nunique'),\n",
    "    UDT=('opsFlag', lambda x: dfTopIssuesZC.loc[x.index][dfTopIssuesZC['opsFlag'] == 1]['driverId'].nunique()),\n",
    "    totalTxns=('txns', 'sum')\n",
    ").reset_index()\n",
    "\n",
    "pivot_table = agg_top_issues_zc.pivot_table(\n",
    "    index=['driverZone', 'category_name', 'issue_name'],\n",
    "    columns='month',\n",
    "    values=['tickets', 'UDRT', 'UDT', 'totalTxns'],\n",
    "    fill_value=0\n",
    ")\n",
    "\n",
    "pivot_table.columns = [f'{month} {metric}' for metric, month in pivot_table.columns]\n",
    "pivot_table = pivot_table.reset_index()\n",
    "\n",
    "pivot_table"
   ]
  },
  {
   "cell_type": "code",
   "execution_count": null,
   "id": "dcac27cd",
   "metadata": {},
   "outputs": [],
   "source": [
    "ticket_cols = [col for col in pivot_table.columns if 'tickets' in col]\n",
    "\n",
    "zone_ticket_counts = pivot_table.groupby('driverZone')[ticket_cols].sum()\n",
    "\n",
    "zone_ticket_counts['Total_Tickets'] = zone_ticket_counts.sum(axis=1)\n",
    "\n",
    "top5_zones = zone_ticket_counts.sort_values('Total_Tickets', ascending=False).head(5)\n",
    "\n",
    "top5_zones_list = top5_zones.index.tolist()\n",
    "filtered_pivot_table = pivot_table[pivot_table['driverZone'].isin(top5_zones_list)]\n",
    "\n",
    "filtered_pivot_table"
   ]
  },
  {
   "cell_type": "code",
   "execution_count": null,
   "id": "47938c56",
   "metadata": {},
   "outputs": [],
   "source": [
    "ticket_cols = [col for col in filtered_pivot_table.columns if 'tickets' in col]\n",
    "\n",
    "category_ticket_counts = filtered_pivot_table.groupby('category_name')[ticket_cols].sum()\n",
    "\n",
    "category_ticket_counts['Total_Tickets'] = category_ticket_counts.sum(axis=1)\n",
    "\n",
    "top10_categories = category_ticket_counts.sort_values('Total_Tickets', ascending=False).head(10)\n",
    "\n",
    "top10_categories_list = top10_categories.index.tolist()\n",
    "further_filtered_table = filtered_pivot_table[filtered_pivot_table['category_name'].isin(top10_categories_list)]\n",
    "\n",
    "further_filtered_table"
   ]
  },
  {
   "cell_type": "code",
   "execution_count": null,
   "id": "3561d23f",
   "metadata": {},
   "outputs": [],
   "source": [
    "ticket_cols = [col for col in further_filtered_table.columns if 'tickets' in col]\n",
    "\n",
    "further_filtered_table['Total_Tickets'] = further_filtered_table[ticket_cols].sum(axis=1)\n",
    "\n",
    "sorted_table = further_filtered_table.sort_values(by=['driverZone', 'category_name', 'Total_Tickets'], ascending=[True, True, False])\n",
    "\n",
    "sorted_table.reset_index(drop = True, inplace=True)\n",
    "sorted_table"
   ]
  }
 ],
 "metadata": {
  "kernelspec": {
   "display_name": "Python 3",
   "language": "python",
   "name": "python3"
  },
  "language_info": {
   "codemirror_mode": {
    "name": "ipython",
    "version": 3
   },
   "file_extension": ".py",
   "mimetype": "text/x-python",
   "name": "python",
   "nbconvert_exporter": "python",
   "pygments_lexer": "ipython3",
   "version": "3.10.12"
  }
 },
 "nbformat": 4,
 "nbformat_minor": 5
}
