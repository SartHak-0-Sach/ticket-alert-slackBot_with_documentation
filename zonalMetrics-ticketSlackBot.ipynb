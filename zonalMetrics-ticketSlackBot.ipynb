{
 "cells": [
  {
   "cell_type": "code",
   "execution_count": null,
   "metadata": {},
   "outputs": [],
   "source": [
    "import os, sys\n",
    "# os.chdir(os.path.dirname(os.path.abspath(__file__)))\n",
    "sys.path.append('../utils')\n",
    "import pandas as pd\n",
    "import numpy as np\n",
    "from queryHelper import prodFetch, adbFetch\n",
    "from databaseHelper import *\n",
    "from sheetHelper import *\n",
    "from datetime import datetime as dt, timedelta\n",
    "import psycopg2\n",
    "import pygsheets as pg\n",
    "import requests\n",
    "import fitz\n",
    "import logging\n",
    "from io import BytesIO\n",
    "from google.oauth2 import service_account\n",
    "from google.auth.transport.requests import Request\n",
    "from slack_sdk import WebClient\n",
    "from slack_sdk.errors import SlackApiError"
   ]
  },
  {
   "cell_type": "code",
   "execution_count": null,
   "metadata": {},
   "outputs": [],
   "source": [
    "yesterday_date = pd.Timestamp.today().date() - timedelta(days=1)\n",
    "last_week_date = pd.Timestamp.today().date() - timedelta(days=7)\n",
    "\n",
    "print(\"Yesterday's date: \", yesterday_date)\n",
    "print(\"Last week's date: \", last_week_date)"
   ]
  },
  {
   "cell_type": "code",
   "execution_count": null,
   "metadata": {},
   "outputs": [],
   "source": [
    "dfDrivers = adbFetch(f\"\"\"select driverId, date, zoneId from dailyDriversHistories where driverId like 'D%' and clientId = 'BS00' and vehicleType != 'E-2w' and status in ('active', 'inactive') and deletedAt is null and isBaasDriver != 1 and date in ('{yesterday_date}', '{last_week_date}')\"\"\")\n",
    "\n",
    "dfDrivers"
   ]
  },
  {
   "cell_type": "code",
   "execution_count": null,
   "metadata": {},
   "outputs": [],
   "source": [
    "dfDrivers_yesterday = dfDrivers[dfDrivers['date'] == yesterday_date].copy()\n",
    "dfDrivers_lastweek = dfDrivers[dfDrivers['date'] == last_week_date].copy()\n",
    "\n",
    "print(\"Yesterday's Drivers:\")\n",
    "print(dfDrivers_yesterday.head())\n",
    "\n",
    "print(\"\\nLast Week's Drivers:\")\n",
    "print(dfDrivers_lastweek.head())"
   ]
  },
  {
   "cell_type": "code",
   "execution_count": null,
   "metadata": {},
   "outputs": [],
   "source": [
    "txns = prodFetch(f\"\"\" select driverId, date, sum(netGMV)/100 as revenue, sum(swaps) swaps, 1 as opsFlag from transactions where date in ('{yesterday_date}', '{last_week_date}') and deletedAt is null group by driverId, date\"\"\")\n",
    "\n",
    "txns"
   ]
  },
  {
   "cell_type": "code",
   "execution_count": null,
   "metadata": {},
   "outputs": [],
   "source": [
    "txns_yesterday = txns[txns['date'] == yesterday_date].copy()\n",
    "txns_lastweek = txns[txns['date'] == last_week_date].copy()\n",
    "\n",
    "print(\"Yesterday's Transactions:\")\n",
    "print(txns_yesterday.head())\n",
    "print(\"\\nLast Week's Transactions:\")\n",
    "print(txns_lastweek.head())"
   ]
  },
  {
   "cell_type": "code",
   "execution_count": null,
   "metadata": {},
   "outputs": [],
   "source": [
    "dfdsh = prodFetch(f\"\"\" select driverId, date, status from driverStatusHistories where date in ('{yesterday_date}', '{last_week_date}') and deletedAt is null and status = 'active' \"\"\")\n",
    "\n",
    "dfdsh"
   ]
  },
  {
   "cell_type": "code",
   "execution_count": null,
   "metadata": {},
   "outputs": [],
   "source": [
    "dfdsh_yesterday = dfdsh[dfdsh['date'] == yesterday_date].copy()\n",
    "dfdsh_lastweek = dfdsh[dfdsh['date'] == last_week_date].copy()\n",
    "\n",
    "print(\"Yesterday's Transactions:\")\n",
    "print(dfdsh_yesterday.head())\n",
    "print(\"\\nLast Week's Transactions:\")\n",
    "print(dfdsh_lastweek.head())"
   ]
  },
  {
   "cell_type": "code",
   "execution_count": null,
   "metadata": {},
   "outputs": [],
   "source": [
    "conn = psycopg2.connect(\n",
    "    dbname=\"operations_manager_prod\",\n",
    "    user=\"sarthak_sachdev\",\n",
    "    password=\"Sarthak@12345\",\n",
    "    host=\"operation.replica.upgrid.in\",\n",
    "    port=\"5432\"\n",
    ")\n",
    "\n",
    "print(\"PostgreSQL Connection Established\")\n",
    "\n",
    "battery_query = f\"\"\"\n",
    "    SELECT complainant_id AS driverId,\n",
    "           (created_at + INTERVAL '330 minutes')::DATE AS battery_ticket_date,\n",
    "           COUNT(*) AS battery_totalTickets\n",
    "    FROM tickets\n",
    "    WHERE (created_at + INTERVAL '330 minutes')::DATE IN ('{yesterday_date}')\n",
    "      AND deleted_at IS NULL\n",
    "      AND complainant_id LIKE 'D%'\n",
    "      AND issue_id IN (401, 922, 923, 3201, 2862, 984)\n",
    "    GROUP BY complainant_id, battery_ticket_date\n",
    "\"\"\"\n",
    "\n",
    "wait_query = f\"\"\"\n",
    "    SELECT complainant_id AS driverId,\n",
    "           (created_at + INTERVAL '330 minutes')::DATE AS wait_ticket_date,\n",
    "           COUNT(*) AS wait_totalTickets\n",
    "    FROM tickets\n",
    "    WHERE (created_at + INTERVAL '330 minutes')::DATE IN ('{yesterday_date}')\n",
    "      AND deleted_at IS NULL\n",
    "      AND complainant_id LIKE 'D%'\n",
    "      AND issue_id IN (399, 380, 576, 603, 583, 626, 639, 662, 621, 620,\n",
    "                       636, 1916, 1952, 2427, 2527, 2526, 3146, 793, 3166)\n",
    "    GROUP BY complainant_id, wait_ticket_date\n",
    "\"\"\"\n",
    "\n",
    "meter_query = f\"\"\"\n",
    "    SELECT complainant_id AS driverId,\n",
    "           (created_at + INTERVAL '330 minutes')::DATE AS meter_ticket_date,\n",
    "           COUNT(*) AS meter_totalTickets\n",
    "    FROM tickets\n",
    "    WHERE (created_at + INTERVAL '330 minutes')::DATE IN ('{yesterday_date}')\n",
    "      AND deleted_at IS NULL\n",
    "      AND complainant_id LIKE 'D%'\n",
    "      AND issue_id IN (2488, 2672, 2676, 2773, 2846, 2947, 2983, 2990, 3254, 3255)\n",
    "    GROUP BY complainant_id, meter_ticket_date\n",
    "\"\"\"\n",
    "\n",
    "dfBatteryTickets = pd.read_sql(battery_query, conn)\n",
    "dfWaitTickets = pd.read_sql(wait_query, conn)\n",
    "dfMeterTickets = pd.read_sql(meter_query, conn)\n",
    "\n",
    "conn.close()\n",
    "\n",
    "print(dfBatteryTickets.head())\n",
    "print(dfWaitTickets.head())\n",
    "print(dfMeterTickets.head())\n"
   ]
  },
  {
   "cell_type": "code",
   "execution_count": null,
   "metadata": {},
   "outputs": [],
   "source": [
    "dfCrossSwapTickets = adbFetch(f\"\"\"select date, complainant_id driverId, count(*) as crossSwap_totaltickets from ticketModelNew where category_issue in ('Fraud Report - Fake Swap Created by Partner') and date = '{yesterday_date}' and complainant_type in ('driver') group by driverId, date\"\"\")\n",
    "\n",
    "dfCrossSwapTickets"
   ]
  },
  {
   "cell_type": "code",
   "execution_count": null,
   "metadata": {},
   "outputs": [],
   "source": [
    "# dfNonOps = prodFetch(f\"\"\"select driverId, date from driverLeaves where driverId like 'D%' and deletedAt is null and date between '{last_week_date}' and '{yesterday_date}' \"\"\")\n",
    "\n",
    "# dfNonOps['date'] = pd.to_datetime(dfNonOps['date'])\n",
    "\n",
    "# driver_leave_days = dfNonOps.groupby('driverId')['date'].nunique().reset_index(name='leave_days_last_7')\n",
    "\n",
    "# driver_leave_days['RT_case'] = (driver_leave_days['leave_days_last_7'] >= 7).astype(int)\n",
    "\n",
    "# rt_final = driver_leave_days[driver_leave_days['RT_case'] == 1].copy()\n",
    "\n",
    "# rt_final\n",
    "rt = read(\"https://docs.google.com/spreadsheets/d/19pnhX57q6pZxdfG6DhBBXI7eBQ6U52Y-eoBBcM7pfWk/edit?gid=0#gid=0\", \"Tasks\")\n",
    "\n",
    "rt"
   ]
  },
  {
   "cell_type": "code",
   "execution_count": null,
   "metadata": {},
   "outputs": [],
   "source": [
    "rt['Case Date'] = pd.to_datetime(rt['Case Date']).dt.date\n",
    "\n",
    "rt = rt[rt['Case Date'] == yesterday_date].copy()\n",
    "rt"
   ]
  },
  {
   "cell_type": "code",
   "execution_count": null,
   "metadata": {},
   "outputs": [],
   "source": [
    "rt_final = rt.groupby('zoneId')['Driver'].nunique().reset_index(name='rt_cases')\n",
    "\n",
    "rt_final"
   ]
  },
  {
   "cell_type": "code",
   "execution_count": null,
   "metadata": {},
   "outputs": [],
   "source": [
    "final = dfDrivers_yesterday.merge(txns_yesterday, on=['driverId', 'date'], how='left')\n",
    "\n",
    "final.fillna(0, inplace=True)\n",
    "final"
   ]
  },
  {
   "cell_type": "code",
   "execution_count": null,
   "metadata": {},
   "outputs": [],
   "source": [
    "final2 = dfDrivers_lastweek.merge(txns_lastweek, on=['driverId', 'date'], how='left')\n",
    "\n",
    "final2.fillna(0, inplace=True)\n",
    "final2"
   ]
  },
  {
   "cell_type": "code",
   "execution_count": null,
   "metadata": {},
   "outputs": [],
   "source": [
    "dfdsh_lastweek"
   ]
  },
  {
   "cell_type": "code",
   "execution_count": null,
   "metadata": {},
   "outputs": [],
   "source": [
    "finalLastWeek = final2.merge(dfdsh_lastweek, on=['driverId', 'date'], how='left')\n",
    "\n",
    "finalLastWeek.fillna(\"inactive\", inplace=True)\n",
    "finalLastWeek"
   ]
  },
  {
   "cell_type": "code",
   "execution_count": null,
   "metadata": {},
   "outputs": [],
   "source": [
    "final_merged = final.merge(dfdsh, on=['driverId', 'date'], how='left')\n",
    "final_merged.fillna(\"inactive\", inplace=True)\n",
    "final_merged"
   ]
  },
  {
   "cell_type": "code",
   "execution_count": null,
   "metadata": {},
   "outputs": [],
   "source": [
    "final_merged = final_merged.merge(dfBatteryTickets, left_on=['driverId', 'date'], right_on=['driverid', 'battery_ticket_date'], how='left').drop(columns=['battery_ticket_date', 'driverid'])\n",
    "\n",
    "final_merged.fillna(\"\", inplace=True)\n",
    "final_merged"
   ]
  },
  {
   "cell_type": "code",
   "execution_count": null,
   "metadata": {},
   "outputs": [],
   "source": [
    "final_merged = final_merged.merge(dfWaitTickets, left_on=['driverId', 'date'], right_on=['driverid', 'wait_ticket_date'], how='left').drop(columns=['wait_ticket_date', 'driverid'])\n",
    "\n",
    "final_merged.fillna(\"\", inplace=True)\n",
    "final_merged"
   ]
  },
  {
   "cell_type": "code",
   "execution_count": null,
   "metadata": {},
   "outputs": [],
   "source": [
    "final_merged = final_merged.merge(dfMeterTickets, left_on=['driverId', 'date'], right_on=['driverid', 'meter_ticket_date'], how='left').drop(columns=['meter_ticket_date', 'driverid'])\n",
    "\n",
    "final_merged.fillna(\"\", inplace=True)\n",
    "final_merged"
   ]
  },
  {
   "cell_type": "code",
   "execution_count": null,
   "metadata": {},
   "outputs": [],
   "source": [
    "final_merged = final_merged.merge(dfCrossSwapTickets, on=['driverId', 'date'], how='left')\n",
    "\n",
    "final_merged.fillna(0, inplace=True)\n",
    "final_merged"
   ]
  },
  {
   "cell_type": "code",
   "execution_count": null,
   "metadata": {},
   "outputs": [],
   "source": [
    "dfInActivity = prodFetch(f\"\"\"SELECT ab.inactiveDate date, driverId, ab.zoneId, count(*) inactivity\n",
    "FROM\n",
    "(\n",
    "with inactivityData as(\n",
    "select\n",
    "date(date_add(createdAt, interval 330 minute)) inactiveDate,\n",
    "driverId,\n",
    "changedBy,\n",
    "CASE\n",
    "WHEN changedBy in (SELECT distinct skId from dsk) THEN 'JIA'\n",
    "WHEN changedBy IS NULL THEN NULL\n",
    "ELSE 'OSC'\n",
    "END inactive_APPusage,\n",
    "statusChangedVia,\n",
    "batteryDepositedTo,\n",
    "CASE\n",
    "WHEN batteryDepositedTo like 'DSK%' THEN REPLACE(batteryDepositedTo, \"DSK\", \"P\")\n",
    "ELSE batteryDepositedTo\n",
    "END batteryDepositedToR\n",
    "from driverAudits\n",
    "where deletedAt IS NULL\n",
    "AND oldStatus IN ('absent', 'active')\n",
    "AND newStatus='onLeave'\n",
    "AND date(date_add(createdAt, interval 330 minute)) = '{yesterday_date}'\n",
    "-- AND status='verified'\n",
    "),\n",
    "p1 as (\n",
    "select\n",
    "i.*,\n",
    "dbas.partnerId,\n",
    "CASE WHEN isActiveDsk=1 THEN 'DSK' ELSE 'NON_DSK' END dsk_Status,\n",
    "isActiveDsk,\n",
    "dskId, dskCreatedAt, dskUpdatedAt,\n",
    "CASE\n",
    "WHEN isActiveDsk=1 THEN 'DSK'\n",
    "WHEN isActiveDsk=0 AND dskId IS NOT NULL AND dsk.status='inactive' AND\n",
    "(inactiveDate BETWEEN dskCreatedAt AND dskUpdatedAt) THEN 'DSK'\n",
    "WHEN isActiveDsk=0 AND dskId IS NOT NULL AND dskCreatedAt<=inactiveDate AND dsk.status='active' THEN 'DSK'\n",
    "ELSE 'NON_DSK'\n",
    "END finalDskStatus,\n",
    "dsk.status\n",
    "from inactivityData i LEFT JOIN\n",
    "(select date, partnerId, isActiveDsk from dailyBatteriesAtStations where deletedAt IS NULL) dbas\n",
    "ON i.batteryDepositedToR=dbas.partnerId AND i.inactiveDate=dbas.date\n",
    "LEFT JOIN\n",
    "(select\n",
    "id dskId, partnerId, status, zoneId,\n",
    "date(date_add(createdAt, interval 330 minute)) dskCreatedAt,\n",
    "date(date_add(updatedAt, interval 330 minute)) dskUpdatedAt\n",
    "from dsk where deletedAt IS NULL\n",
    "-- AND status='active'\n",
    ") dsk ON i.batteryDepositedToR=dsk.partnerId\n",
    ")\n",
    "select\n",
    "distinct p1.inactiveDate, driverId, p.zoneId, changedBy,inactive_APPusage, statusChangedVia,\n",
    "batteryDepositedTo, batteryDepositedToR, p.partnerType, finalDskStatus,\n",
    "t.ticketDate, COALESCE(t.ticketStatus, 'noticket') ticketStatus, t.name,d.noOfBatteries driverBattery\n",
    "from p1\n",
    "LEFT JOIN\n",
    "(select\n",
    "date(date_add(t.createdAt, interval 330 minute)) ticketDate,\n",
    "CASE WHEN t.ticketTypeId IS NOT NULL THEN 'ticket' ELSE 'noTicket' END as ticketStatus,\n",
    "tst.name, t.complainantId\n",
    "from tickets t LEFT JOIN ticketSubTypes tst ON t.ticketSubTypeId=tst.id\n",
    "where t.deletedAt IS NULL AND t.ticketTypeId IN (56,103,127)\n",
    ") t ON p1.driverId=t.complainantId AND p1.inactiveDate=t.ticketDate\n",
    "LEFT JOIN partners p ON p1.batteryDepositedToR=p.id\n",
    "left join drivers d on d.id = p1.driverId\n",
    "order by 1 desc) as ab group by 1,2,3\"\"\")\n",
    "\n",
    "dfInActivity"
   ]
  },
  {
   "cell_type": "code",
   "execution_count": null,
   "metadata": {},
   "outputs": [],
   "source": [
    "dfActivity = prodFetch(f\"\"\"SELECT ab.activeDate date, driverId, ab.zoneId, count(*) activity\n",
    "FROM\n",
    "(\n",
    "with activityData as(\n",
    "select\n",
    "date(date_add(createdAt, interval 330 minute)) activeDate,\n",
    "driverId,\n",
    "changedBy\n",
    "from driverAudits\n",
    "where deletedAt IS NULL\n",
    "AND oldStatus IN ('onLeave', 'toBeActivated')\n",
    "AND newStatus='active'\n",
    "AND date(date_add(createdAt, interval 330 minute)) = '{yesterday_date}'\n",
    "),\n",
    "p1 as (\n",
    "select\n",
    "a.*,\n",
    "dbas.partnerId,\n",
    "CASE WHEN isActiveDsk=1 THEN 'DSK' ELSE 'NON_DSK' END dsk_Status,\n",
    "isActiveDsk,\n",
    "dskId, dskCreatedAt, dskUpdatedAt,\n",
    "CASE\n",
    "WHEN isActiveDsk=1 THEN 'DSK'\n",
    "WHEN isActiveDsk=0 AND dskId IS NOT NULL AND dsk.status='inactive' AND\n",
    "(activeDate BETWEEN dskCreatedAt AND dskUpdatedAt) THEN 'DSK'\n",
    "WHEN isActiveDsk=0 AND dskId IS NOT NULL AND dskCreatedAt<=activeDate AND dsk.status='active' THEN 'DSK'\n",
    "ELSE 'NON_DSK'\n",
    "END finalDskStatus,\n",
    "dsk.status\n",
    "from activityData a LEFT JOIN\n",
    "(select date, partnerId, isActiveDsk from dailyBatteriesAtStations where deletedAt IS NULL) dbas\n",
    "ON a.changedBy=dbas.partnerId AND a.activeDate=dbas.date\n",
    "LEFT JOIN\n",
    "(select\n",
    "id dskId, partnerId, status, zoneId,\n",
    "date(date_add(createdAt, interval 330 minute)) dskCreatedAt,\n",
    "date(date_add(updatedAt, interval 330 minute)) dskUpdatedAt\n",
    "from dsk where deletedAt IS NULL\n",
    "-- AND status='active'\n",
    ") dsk ON a.changedBy=dsk.partnerId\n",
    ")\n",
    "select\n",
    "distinct p1.activeDate, driverId, p.zoneId, changedBy, p.partnerType, finalDskStatus,\n",
    "t.ticketDate, COALESCE(t.ticketStatus, 'noticket') ticketStatus, t.name,d.noOfBatteries\n",
    "from p1\n",
    "LEFT JOIN\n",
    "(select\n",
    "date(date_add(t.createdAt, interval 330 minute)) ticketDate,\n",
    "CASE WHEN t.ticketTypeId IS NOT NULL THEN 'ticket' ELSE 'noTicket' END as ticketStatus,\n",
    "tst.name, t.complainantId\n",
    "from tickets t LEFT JOIN ticketSubTypes tst ON t.ticketSubTypeId=tst.id\n",
    "where t.deletedAt IS NULL AND t.ticketTypeId IN (56,103,127)\n",
    ") t ON p1.driverId=t.complainantId AND p1.activeDate=t.ticketDate\n",
    "LEFT JOIN partners p ON p1.changedBy=p.id\n",
    "left join drivers d on d.id = p1.driverId\n",
    "order by 1 desc\n",
    ")\n",
    "as ab\n",
    "Group by 1,2,3\"\"\")\n",
    "\n",
    "dfActivity"
   ]
  },
  {
   "cell_type": "code",
   "execution_count": null,
   "metadata": {},
   "outputs": [],
   "source": [
    "final_merged = final_merged.merge(dfInActivity, on=['driverId', 'date', 'zoneId'], how='left')\n",
    "\n",
    "final_merged.fillna(0, inplace=True)\n",
    "final_merged"
   ]
  },
  {
   "cell_type": "code",
   "execution_count": null,
   "metadata": {},
   "outputs": [],
   "source": [
    "final_merged = final_merged.merge(dfActivity, on=['driverId', 'date', 'zoneId'], how='left')\n",
    "final_merged.fillna(0, inplace=True)\n",
    "final_merged"
   ]
  },
  {
   "cell_type": "code",
   "execution_count": null,
   "metadata": {},
   "outputs": [],
   "source": [
    "crossSwap = read(\"https://docs.google.com/spreadsheets/d/1VhLAxK4WGVPG0KsDsdh-CxMAmdOrdiVsExgNb__TnRQ/edit?gid=0#gid=0\", \"Sheet1\")\n",
    "\n",
    "crossSwap"
   ]
  },
  {
   "cell_type": "code",
   "execution_count": null,
   "metadata": {},
   "outputs": [],
   "source": [
    "crossSwap = crossSwap.iloc[1:].copy() \n",
    "crossSwap.rename(columns={crossSwap.columns[0]: 'zoneId', crossSwap.columns[1]: 'crossSwap %'}, inplace=True)\n",
    "\n",
    "crossSwap"
   ]
  },
  {
   "cell_type": "code",
   "execution_count": null,
   "metadata": {},
   "outputs": [],
   "source": [
    "ticket_cols = ['battery_totaltickets', 'wait_totaltickets', 'meter_totaltickets', 'crossSwap_totaltickets']\n",
    "final_merged[ticket_cols + ['inactivity', 'activity']] = final_merged[ticket_cols + ['inactivity', 'activity']].apply(pd.to_numeric, errors='coerce').fillna(0)\n",
    "\n",
    "zone_summary = final_merged.groupby('zoneId').agg(\n",
    "    active_drivers=('status', lambda x: (x == 'active').sum()),\n",
    "    total_drivers=('driverId', 'count'),\n",
    "    ops_count=('opsFlag', 'sum'),\n",
    "    revenue_sum=('revenue', 'sum'),\n",
    "    swaps_sum=('swaps', 'sum'),\n",
    "    battery_tickets=('battery_totaltickets', 'sum'),\n",
    "    wait_tickets=('wait_totaltickets', 'sum'),\n",
    "    meter_tickets=('meter_totaltickets', 'sum'),\n",
    "    crossswap_tickets=('crossSwap_totaltickets', 'sum'),\n",
    "    total_inactivity=('inactivity', 'sum'),\n",
    "    total_activity=('activity', 'sum')\n",
    ").reset_index()\n",
    "\n",
    "zone_summary['ops_percent'] = zone_summary['ops_count'] / zone_summary['active_drivers']\n",
    "zone_summary['revenue_per_swap'] = zone_summary['revenue_sum'] / zone_summary['swaps_sum']\n",
    "zone_summary['swap_per_ops'] = zone_summary['swaps_sum'] / zone_summary['ops_count']\n",
    "\n",
    "zone_summary.replace([np.inf, -np.inf, np.nan], 0, inplace=True)\n",
    "\n",
    "zone_summary"
   ]
  },
  {
   "cell_type": "code",
   "execution_count": null,
   "metadata": {},
   "outputs": [],
   "source": [
    "zone_summary_lastweek = finalLastWeek.groupby('zoneId').agg(\n",
    "    ops_count_lastweek=('opsFlag', 'sum'),\n",
    "    total_drivers_lastweek=('driverId', 'count'),\n",
    "    active_drivers_lastweek=('status', lambda x: (x == 'active').sum())\n",
    ").reset_index()\n",
    "\n",
    "zone_summary_lastweek['ops_percent_lastweek'] = zone_summary_lastweek['ops_count_lastweek'] / zone_summary_lastweek['active_drivers_lastweek']\n",
    "\n",
    "zone_summary_lastweek"
   ]
  },
  {
   "cell_type": "code",
   "execution_count": null,
   "metadata": {},
   "outputs": [],
   "source": [
    "final_df = zone_summary.merge(zone_summary_lastweek[['zoneId', 'ops_percent_lastweek']], on='zoneId', how='left')\n",
    "\n",
    "final_df['ops_percent_variance_vs_last_week'] = final_df['ops_percent'] - final_df['ops_percent_lastweek']\n",
    "\n",
    "final_df"
   ]
  },
  {
   "cell_type": "code",
   "execution_count": null,
   "metadata": {},
   "outputs": [],
   "source": [
    "final_df = final_df.merge(rt_final, on='zoneId', how='left')\n",
    "\n",
    "final_df"
   ]
  },
  {
   "cell_type": "code",
   "execution_count": null,
   "metadata": {},
   "outputs": [],
   "source": [
    "final_df.fillna(0, inplace=True)\n",
    "final_df"
   ]
  },
  {
   "cell_type": "code",
   "execution_count": null,
   "metadata": {},
   "outputs": [],
   "source": [
    "final_output = final_df[[\n",
    "    'zoneId',\n",
    "    'active_drivers',\n",
    "    'ops_percent',\n",
    "    'ops_percent_variance_vs_last_week',\n",
    "    'revenue_per_swap',\n",
    "    'swap_per_ops',\n",
    "    'battery_tickets',\n",
    "    'total_activity',\n",
    "    'total_inactivity',\n",
    "    'crossswap_tickets',\n",
    "    'wait_tickets',\n",
    "    'meter_tickets',\n",
    "    'rt_cases'\n",
    "]].copy()\n",
    "\n",
    "final_output = final_output.rename(columns={\n",
    "    'zoneId': 'Zone Id',\n",
    "    'active_drivers': 'Active Drivers',\n",
    "    'ops_percent': 'Ops %',\n",
    "    'ops_percent_variance_vs_last_week': 'Ops% variance same day last week',\n",
    "    'revenue_per_swap': 'Revenue/Swap',\n",
    "    'swap_per_ops': 'Swap/Ops',\n",
    "    'battery_tickets': 'DSK Battery Unavailability Tickets',\n",
    "    'total_activity': 'Activity',\n",
    "    'total_inactivity': 'Inactivity',\n",
    "    'crossswap_tickets': 'Cross Swap Related Tickets',\n",
    "    'wait_tickets': 'Wait Time Tickets',\n",
    "    'meter_tickets': 'Meter Issues Tickets',\n",
    "    'rt_cases': 'RT Cases'\n",
    "})\n",
    "\n",
    "final_output = final_output.sort_values(by='Zone Id')"
   ]
  },
  {
   "cell_type": "code",
   "execution_count": null,
   "metadata": {},
   "outputs": [],
   "source": [
    "dfFinal = final_output.merge(crossSwap, left_on = 'Zone Id', right_on='zoneId', how='left').drop(columns = 'zoneId')\n",
    "\n",
    "dfFinal"
   ]
  },
  {
   "cell_type": "code",
   "execution_count": null,
   "metadata": {},
   "outputs": [],
   "source": [
    "dfFinal.fillna('', inplace=True)\n",
    "dfFinal"
   ]
  },
  {
   "cell_type": "code",
   "execution_count": null,
   "metadata": {},
   "outputs": [],
   "source": [
    "dfFinal['Active Drivers'] = pd.to_numeric(dfFinal['Active Drivers'], errors='coerce')\n",
    "dfFinal.sort_values('Active Drivers', ascending=False, inplace=True)\n",
    "dfFinal.reset_index(drop=True, inplace=True)\n",
    "dfFinal"
   ]
  },
  {
   "cell_type": "code",
   "execution_count": null,
   "metadata": {},
   "outputs": [],
   "source": [
    "print(dfFinal.columns)"
   ]
  },
  {
   "cell_type": "code",
   "execution_count": null,
   "metadata": {},
   "outputs": [],
   "source": [
    "int_cols = [\n",
    "    'Active Drivers', 'DSK Battery Unavailability Tickets', 'Activity',\n",
    "    'Inactivity', 'Cross Swap Related Tickets', 'Wait Time Tickets',\n",
    "    'Meter Issues Tickets', 'RT Cases'\n",
    "]\n",
    "\n",
    "float_cols = ['Revenue/Swap', 'Swap/Ops']\n",
    "percentage_cols = ['Ops %', 'Ops% variance same day last week', 'crossSwap %']\n",
    "string_cols = ['Zone Id']\n",
    "\n",
    "for col in int_cols:\n",
    "    dfFinal[col] = dfFinal[col].fillna(0).astype(int)\n",
    "\n",
    "for col in float_cols:\n",
    "    dfFinal[col] = pd.to_numeric(dfFinal[col], errors='coerce').round(2)\n",
    "\n",
    "def format_percent(val):\n",
    "    try:\n",
    "        if pd.isnull(val) or val == '':\n",
    "            return ''\n",
    "        val = val*100\n",
    "        val = str(val).replace('%', '')\n",
    "        return f\"{float(val):.2f}%\"\n",
    "    except:\n",
    "        return ''\n",
    "\n",
    "for col in percentage_cols:\n",
    "    dfFinal[col] = dfFinal[col].map(format_percent)\n",
    "\n",
    "for col in string_cols:\n",
    "    dfFinal[col] = dfFinal[col].astype(str)\n"
   ]
  },
  {
   "cell_type": "code",
   "execution_count": null,
   "metadata": {},
   "outputs": [],
   "source": [
    "dfFinal"
   ]
  },
  {
   "cell_type": "code",
   "execution_count": null,
   "metadata": {},
   "outputs": [],
   "source": [
    "dfFinal['Ops %'] = pd.to_numeric(dfFinal['Ops %'].str.rstrip('%'), errors='coerce')\n",
    "dfFinalest = dfFinal[dfFinal['Ops %'] != 0].copy()\n",
    "dfFinalest['Ops %'] = dfFinalest['Ops %'].map(lambda x: f\"{float(x):.2f}%\")\n",
    "dfFinalest"
   ]
  },
  {
   "cell_type": "code",
   "execution_count": null,
   "metadata": {},
   "outputs": [],
   "source": [
    "write(\"https://docs.google.com/spreadsheets/d/1-irsBnNdhl-tMSxF14rOEKiEAFtM3ebhCNhqFStsdIk/edit?gid=0#gid=0\", \"Zonal-info\", dfFinalest)"
   ]
  },
  {
   "cell_type": "code",
   "execution_count": null,
   "metadata": {},
   "outputs": [],
   "source": [
    "dfLogs = dfFinalest.copy()\n",
    "dfLogs['date'] = pd.Timestamp.today().date()\n",
    "\n",
    "dfLogs"
   ]
  },
  {
   "cell_type": "code",
   "execution_count": null,
   "metadata": {},
   "outputs": [],
   "source": [
    "append(\"https://docs.google.com/spreadsheets/d/1-irsBnNdhl-tMSxF14rOEKiEAFtM3ebhCNhqFStsdIk/edit?gid=0#gid=0\", \"logs\", dfLogs)"
   ]
  },
  {
   "cell_type": "markdown",
   "metadata": {},
   "source": [
    "# slack bot code"
   ]
  },
  {
   "cell_type": "code",
   "execution_count": null,
   "metadata": {},
   "outputs": [],
   "source": [
    "logging.basicConfig(level=logging.INFO, format='%(asctime)s - %(levelname)s - %(message)s')\n",
    "\n",
    "SCOPES = ['https://www.googleapis.com/auth/drive', 'https://www.googleapis.com/auth/spreadsheets.readonly']\n",
    "SHEET_ID = 'XXX'\n",
    "LOGGER_CHANNEL_ID = 'XXX'\n",
    "TARGET_CHANNEL_ID = 'XXX'\n",
    "POC_ID = 'XXX'\n",
    "# BOT_TOKEN = os.getenv(\"SLACK_BOT_TOKEN\", 'XXX') # new token\n",
    "BOT_TOKEN = os.getenv(\"SLACK_BOT_TOKEN\", 'XXX') # old token\n",
    "\n",
    "def get_access_token(creds):\n",
    "    creds.refresh(Request())\n",
    "    return creds.token\n",
    "\n",
    "\n",
    "def export_sheet_as_jpeg(sheet_id, page_id, file_name):\n",
    "    return_bool = False\n",
    "\n",
    "    variables_keys = {\n",
    "        \"type\": os.getenv(\"TYPE\"),\n",
    "        \"project_id\": os.getenv(\"PROJECT_ID\"),\n",
    "        \"private_key_id\": os.getenv(\"PRIVATE_KEY_ID\"),\n",
    "        \"private_key\": os.getenv(\"PRIVATE_KEY\"),\n",
    "        \"client_email\": os.getenv(\"CLIENT_EMAIL\"),\n",
    "        \"client_id\": os.getenv(\"CLIENT_ID\"),\n",
    "        \"auth_uri\": os.getenv(\"AUTH_URI\"),\n",
    "        \"token_uri\": os.getenv(\"TOKEN_URI\"),\n",
    "        \"auth_provider_x509_cert_url\": os.getenv(\"AUTH_PROVIDER_X509_CERT_URL\"),\n",
    "        \"client_x509_cert_url\": os.getenv(\"CLIENT_X509_CERT_URL\")\n",
    "    }\n",
    "\n",
    "    creds = service_account.Credentials.from_service_account_info(\n",
    "        info=variables_keys, scopes=SCOPES)\n",
    "\n",
    "    access_token = get_access_token(creds)\n",
    "    title = 'dailyZonewiseInfo'\n",
    "    export_url = (\n",
    "    f'https://docs.google.com/spreadsheets/d/{sheet_id}/export?'\n",
    "    f'format=pdf&'\n",
    "    f'size=7&'\n",
    "    f'portrait=false&'\n",
    "    f'sheetnames=false&'\n",
    "    f'gridlines=false&'\n",
    "    f'printtitle=false&'\n",
    "    f'title={title}&'\n",
    "    f'scale=4&'\n",
    "    f'fitw=true&'\n",
    "    f'horizontal_alignment=CENTER&'\n",
    "    f'gid={page_id}'\n",
    ")\n",
    "\n",
    "    headers = {\"Authorization\": f\"Bearer {access_token}\"}\n",
    "    response = requests.get(export_url, headers=headers)\n",
    "\n",
    "    if response.status_code == 200:\n",
    "        pdf_bytes = response.content\n",
    "        pdf_document = fitz.open(stream=pdf_bytes, filetype=\"pdf\")\n",
    "\n",
    "        zoom = 2\n",
    "        mat = fitz.Matrix(zoom, zoom)\n",
    "\n",
    "        for page_number in range(pdf_document.page_count):\n",
    "            page = pdf_document.load_page(page_number)\n",
    "            pixmap = page.get_pixmap(matrix=mat)\n",
    "            png_bytes = pixmap.tobytes('png')\n",
    "            return_bool = send_image_to_slack(BytesIO(png_bytes), file_name)\n",
    "\n",
    "    return return_bool\n",
    "\n",
    "\n",
    "def send_image_to_slack(image_bytes, file_name):\n",
    "    client = WebClient(token=BOT_TOKEN)\n",
    "\n",
    "    try:\n",
    "        response = client.files_upload_v2(\n",
    "            channel=TARGET_CHANNEL_ID,\n",
    "            file=image_bytes,\n",
    "            title=f\"{file_name}.jpeg\",\n",
    "            initial_comment=f\"{file_name} for {str(dt.now())[:10]}\"\n",
    "        )\n",
    "        logging.info(f\"File {file_name}.jpeg successfully uploaded to Slack.\")\n",
    "        return True\n",
    "\n",
    "    except SlackApiError as e:\n",
    "        logging.error(f\"Error sending file to Slack: {e.response['error']}\")\n",
    "        return False\n",
    "    except Exception as e:\n",
    "        logging.error(f\"Unexpected error: {str(e)}\")\n",
    "        return False\n",
    "\n",
    "\n",
    "def check_conditions():\n",
    "    return True\n",
    "\n",
    "\n",
    "def send_slack_message(channel, message):\n",
    "    client = WebClient(token=BOT_TOKEN)\n",
    "    try:\n",
    "        client.chat_postMessage(channel=channel, text=message)\n",
    "        logging.info(\"Slack message sent successfully.\")\n",
    "    except SlackApiError as e:\n",
    "        logging.error(f\"Error sending message to Slack: {e.response['error']}\")\n",
    "\n",
    "\n",
    "def main():\n",
    "    if not check_conditions():\n",
    "        logging.error(\"Conditions not met for generating reports.\")\n",
    "        send_slack_message(LOGGER_CHANNEL_ID, f\"Daily MIS - Data Error \\n<@{POC_ID}>\")\n",
    "        return\n",
    "\n",
    "    mis_flag = export_sheet_as_jpeg(SHEET_ID, '0', 'Zonal-info')\n",
    "\n",
    "    if mis_flag:\n",
    "        logging.info(\"Reports successfully uploaded to Slack.\")\n",
    "        send_slack_message(LOGGER_CHANNEL_ID, f\"Zonewise info Posted for {str(dt.now())[:10]}\")\n",
    "    else:\n",
    "        logging.error(\"Error uploading files to Slack.\")\n",
    "        send_slack_message(LOGGER_CHANNEL_ID, f\"Error Uploading File To Channel. \\n<@{POC_ID}>\")\n",
    "\n",
    "\n",
    "if __name__ == \"__main__\":\n",
    "    main()"
   ]
  }
 ],
 "metadata": {
  "kernelspec": {
   "display_name": "Python 3",
   "language": "python",
   "name": "python3"
  },
  "language_info": {
   "codemirror_mode": {
    "name": "ipython",
    "version": 3
   },
   "file_extension": ".py",
   "mimetype": "text/x-python",
   "name": "python",
   "nbconvert_exporter": "python",
   "pygments_lexer": "ipython3",
   "version": "3.10.12"
  }
 },
 "nbformat": 4,
 "nbformat_minor": 2
}
