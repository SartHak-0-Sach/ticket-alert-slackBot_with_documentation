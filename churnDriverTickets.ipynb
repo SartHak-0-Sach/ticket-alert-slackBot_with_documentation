{
 "cells": [
  {
   "cell_type": "code",
   "execution_count": null,
   "metadata": {},
   "outputs": [],
   "source": [
    "import os, sys\n",
    "# os.chdir(os.path.dirname(os.path.abspath(__file__)))\n",
    "sys.path.append('../utils')\n",
    "import pandas as pd\n",
    "import numpy as np\n",
    "from queryHelper import prodFetch, adbFetch\n",
    "from databaseHelper import *\n",
    "from sheetHelper import *\n",
    "from datetime import timedelta\n",
    "import psycopg2\n",
    "from datetime import datetime\n",
    "from openpyxl import Workbook"
   ]
  },
  {
   "cell_type": "code",
   "execution_count": null,
   "metadata": {},
   "outputs": [],
   "source": [
    "dfDrivers = prodFetch(\"\"\"select id driverId, zoneId driverZone, penaltyWallet/100 as cummulativePenalty from drivers where id like 'D%' and clientId in ('BS00') and vehicleType not in ('e-2w')\"\"\")"
   ]
  },
  {
   "cell_type": "code",
   "execution_count": null,
   "metadata": {},
   "outputs": [],
   "source": [
    "dfTxns = prodFetch(\"\"\"\n",
    "SELECT \n",
    "    t.driverId,\n",
    "    t.zoneId,\n",
    "    COUNT(DISTINCT CASE \n",
    "        WHEN t.date >= DATE_SUB(CURDATE(), INTERVAL 30 DAY) THEN t.date \n",
    "        ELSE NULL \n",
    "    END) AS active_days,\n",
    "    MAX(t.date) AS last_active_date,\n",
    "    CASE \n",
    "        WHEN SUM(CASE WHEN t.wrongBatteries != '[]' THEN 1 ELSE 0 END) > 0 \n",
    "        THEN 1 ELSE 0 \n",
    "    END AS crossSwapFlag\n",
    "FROM transactions t\n",
    "WHERE t.deletedAt IS NULL\n",
    "  AND t.clientId IN ('BS00')\n",
    "  AND t.vehicleType NOT IN ('e-2w')\n",
    "  AND t.date = DATE(DATE_ADD(t.createdAt, INTERVAL 330 MINUTE))\n",
    "GROUP BY t.driverId, t.zoneId\n",
    "HAVING last_active_date >= '2024-09-01';\n",
    "\"\"\")"
   ]
  },
  {
   "cell_type": "code",
   "execution_count": null,
   "metadata": {},
   "outputs": [],
   "source": [
    "dfTxns['isChurned'] = np.where((dfTxns['active_days'] == 0), 1, 0)"
   ]
  },
  {
   "cell_type": "code",
   "execution_count": null,
   "metadata": {},
   "outputs": [],
   "source": [
    "dfTxns"
   ]
  },
  {
   "cell_type": "code",
   "execution_count": null,
   "metadata": {},
   "outputs": [],
   "source": [
    "dfTickets = adbFetch(\"\"\"\n",
    "select issue_id, \n",
    "    complainant_id, \n",
    "    date, \n",
    "    complainant_zone, \n",
    "    issue_name, \n",
    "    category_id, \n",
    "    category_name\n",
    "FROM ticketModelNew\n",
    "WHERE \n",
    "    month in ('2024-11', '2024-12', '2025-01')\n",
    "    AND complainant_type = 'driver'\n",
    "ORDER BY date ASC;\n",
    "                     \"\"\")\n",
    "\n",
    "dfTickets"
   ]
  },
  {
   "cell_type": "code",
   "execution_count": null,
   "metadata": {},
   "outputs": [],
   "source": [
    "dfTxns['TotalTicketsCount'] = dfTxns['driverId'].map(dfTickets['complainant_id'].value_counts()).fillna(0)"
   ]
  },
  {
   "cell_type": "code",
   "execution_count": null,
   "metadata": {},
   "outputs": [],
   "source": [
    "dfTxns['SwapHistoryTicketsCount'] = dfTxns['driverId'].map(\n",
    "    dfTickets[dfTickets['category_id'] == 64]['complainant_id'].value_counts()\n",
    ").fillna(0)"
   ]
  },
  {
   "cell_type": "code",
   "execution_count": null,
   "metadata": {},
   "outputs": [],
   "source": [
    "dfTxns['BatteryTicketsCount'] = dfTxns['driverId'].map(\n",
    "    dfTickets[dfTickets['category_id'] == 68]['complainant_id'].value_counts()\n",
    ").fillna(0)"
   ]
  },
  {
   "cell_type": "code",
   "execution_count": null,
   "metadata": {},
   "outputs": [],
   "source": [
    "dfTxns['OtherTicketsCount'] = dfTxns['TotalTicketsCount'] - dfTxns['SwapHistoryTicketsCount']"
   ]
  },
  {
   "cell_type": "code",
   "execution_count": null,
   "metadata": {},
   "outputs": [],
   "source": [
    "dfTxns"
   ]
  },
  {
   "cell_type": "code",
   "execution_count": null,
   "metadata": {},
   "outputs": [],
   "source": [
    "dfTxns['isChurned'] = pd.to_numeric(dfTxns['isChurned'], errors='coerce').fillna(0).astype(int)\n",
    "\n",
    "dfFiltered = dfTxns[dfTxns['isChurned'] == 1]\n",
    "\n",
    "dfFiltered = dfFiltered.drop(columns=['isChurned'])"
   ]
  },
  {
   "cell_type": "code",
   "execution_count": null,
   "metadata": {},
   "outputs": [],
   "source": [
    "dfFiltered"
   ]
  },
  {
   "cell_type": "code",
   "execution_count": null,
   "metadata": {},
   "outputs": [],
   "source": [
    "write(\"https://docs.google.com/spreadsheets/d/1T4xuenK0bry8yfq00cjUXBdiPHuKwKNV6N6j9YHDtbA/edit?gid=1041762128#gid=1041762128\", \"python-data\", dfFiltered)"
   ]
  },
  {
   "cell_type": "code",
   "execution_count": null,
   "metadata": {},
   "outputs": [],
   "source": [
    "dfFinal = dfTickets.merge(dfFiltered, left_on='complainant_id', right_on='driverId', how='right')"
   ]
  },
  {
   "cell_type": "code",
   "execution_count": null,
   "metadata": {},
   "outputs": [],
   "source": [
    "dfFinal"
   ]
  },
  {
   "cell_type": "code",
   "execution_count": null,
   "metadata": {},
   "outputs": [],
   "source": [
    "dfFinal = dfFinal.drop(columns=[\n",
    "    'driverId', 'zoneId', 'active_days', 'last_active_date', \n",
    "    'crossSwapFlag', 'TotalTicketsCount', \n",
    "    'SwapHistoryTicketsCount', 'OtherTicketsCount', 'BatteryTicketsCount'\n",
    "])\n",
    "\n",
    "dfFinal"
   ]
  },
  {
   "cell_type": "code",
   "execution_count": null,
   "metadata": {},
   "outputs": [],
   "source": [
    "dfFinal.drop_duplicates(inplace=True)"
   ]
  },
  {
   "cell_type": "code",
   "execution_count": null,
   "metadata": {},
   "outputs": [],
   "source": [
    "dfFinal"
   ]
  },
  {
   "cell_type": "code",
   "execution_count": null,
   "metadata": {},
   "outputs": [],
   "source": [
    "dfFinal = dfFinal.sort_values(by='date', ascending=True)"
   ]
  },
  {
   "cell_type": "code",
   "execution_count": null,
   "metadata": {},
   "outputs": [],
   "source": [
    "dfFinal"
   ]
  },
  {
   "cell_type": "code",
   "execution_count": null,
   "metadata": {},
   "outputs": [],
   "source": [
    "dfTxn = prodFetch(\"\"\"\n",
    "                  SELECT driverId, date\n",
    "                  FROM transactions\n",
    "                  WHERE deletedAt IS NULL\n",
    "                    AND clientId IN ('BS00')\n",
    "                    AND vehicleType NOT IN ('e-2w')\n",
    "                    AND date >= '2024-09-01'\n",
    "                    and date <= '2025-01-06'\n",
    "                  \"\"\")"
   ]
  },
  {
   "cell_type": "code",
   "execution_count": null,
   "metadata": {},
   "outputs": [],
   "source": [
    "dfTxn['date'] = pd.to_datetime(dfTxn['date'])\n",
    "\n",
    "dfLastActive = dfTxn.groupby('driverId')['date'].max().reset_index()\n",
    "dfLastActive.rename(columns={'date': 'last_active_date'}, inplace=True)\n",
    "\n",
    "dfTxn = dfTxn.merge(dfLastActive, on='driverId', how='left')\n",
    "\n",
    "dfTxn['30_days_before_last_active'] = dfTxn['last_active_date'] - pd.Timedelta(days=30)\n",
    "\n",
    "dfTxn['ops_days_30'] = dfTxn.apply(\n",
    "    lambda row: dfTxn[(dfTxn['driverId'] == row['driverId']) & \n",
    "                      (dfTxn['date'] > row['30_days_before_last_active']) & \n",
    "                      (dfTxn['date'] <= row['last_active_date'])]['date'].nunique(),\n",
    "    axis=1\n",
    ")\n",
    "\n",
    "dfTxns = dfTxn.merge(dfDrivers[['driverId', 'cummulativePenalty']], on='driverId', how='left')\n",
    "\n",
    "dfFinal = dfFiltered.merge(dfTxns[['driverId', 'ops_days_30', 'cummulativePenalty']], left_on='driverId', right_on='driverId', how='left')\n",
    "\n",
    "dfFinal[['driverId', 'ops_days_30', 'cummulativePenalty']]"
   ]
  },
  {
   "cell_type": "code",
   "execution_count": null,
   "metadata": {},
   "outputs": [],
   "source": [
    "dfFinal = dfFinal.drop_duplicates(subset='driverId')\n",
    "dfFinal"
   ]
  },
  {
   "cell_type": "code",
   "execution_count": null,
   "metadata": {},
   "outputs": [],
   "source": [
    "write(\"https://docs.google.com/spreadsheets/d/1T4xuenK0bry8yfq00cjUXBdiPHuKwKNV6N6j9YHDtbA/edit?gid=1041762128#gid=1041762128\", \"final-data\", dfFinal)"
   ]
  }
 ],
 "metadata": {
  "kernelspec": {
   "display_name": "Python 3",
   "language": "python",
   "name": "python3"
  },
  "language_info": {
   "codemirror_mode": {
    "name": "ipython",
    "version": 3
   },
   "file_extension": ".py",
   "mimetype": "text/x-python",
   "name": "python",
   "nbconvert_exporter": "python",
   "pygments_lexer": "ipython3",
   "version": "3.13.1"
  }
 },
 "nbformat": 4,
 "nbformat_minor": 2
}
