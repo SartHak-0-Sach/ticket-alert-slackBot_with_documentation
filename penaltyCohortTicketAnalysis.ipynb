{
 "cells": [
  {
   "cell_type": "code",
   "execution_count": null,
   "id": "e83546d9",
   "metadata": {},
   "outputs": [],
   "source": [
    "import os, sys\n",
    "sys.path.append('../utils')\n",
    "import pandas as pd\n",
    "import numpy as np\n",
    "from queryHelper import prodFetch, adbFetch\n",
    "from databaseHelper import *\n",
    "from sheetHelper import *\n",
    "from datetime import timedelta\n",
    "import psycopg2\n",
    "from datetime import datetime\n",
    "from openpyxl import Workbook"
   ]
  },
  {
   "cell_type": "code",
   "execution_count": null,
   "id": "07cabf1d",
   "metadata": {},
   "outputs": [],
   "source": [
    "dfTickets = adbFetch(\"\"\" \n",
    "    SELECT \n",
    "        month,\n",
    "        date,\n",
    "        complainant_id as driverId,\n",
    "        category_name,\n",
    "        issue_name\n",
    "    FROM ticketModelNew \n",
    "    WHERE \n",
    "        month IN ('2025-04') \n",
    "        AND (category_issue IN (\n",
    "            'Status Change - Dispute - Driver Submitted Battery but status is Active'\n",
    "        )\n",
    "        OR category_name IN (\n",
    "            'Navigation', \n",
    "            'Battery',\n",
    "            'Meter Issue'\n",
    "        ))\n",
    "        AND source IN ('Inbound', 'driverApp', 'Whatsapp')\n",
    "        AND complainant_type = 'driver'\n",
    "\"\"\")\n",
    "\n",
    "\n",
    "dfTickets"
   ]
  },
  {
   "cell_type": "code",
   "execution_count": null,
   "id": "8494dbc7",
   "metadata": {},
   "outputs": [],
   "source": [
    "dfPenalty = adbFetch(\"\"\"select driverId, date, penaltyWallet/100 as pendingPenalty from dailyDriversHistories force index(dailyDriversHistories_date_driverId_unique) where date >= '20250401' and deletedAt is NULL and driverId like 'D%' \"\"\")\n",
    "\n",
    "dfPenalty"
   ]
  },
  {
   "cell_type": "code",
   "execution_count": null,
   "id": "10dcb9b4",
   "metadata": {},
   "outputs": [],
   "source": [
    "bins = [-1, 0, 100, 500, float('inf')]\n",
    "labels = ['0', '1-100', '101-500', '>500']\n",
    "\n",
    "dfPenalty['penalty_cohort'] = pd.cut(dfPenalty['pendingPenalty'], bins=bins, labels=labels, right=True)\n",
    "\n",
    "dfPenalty.drop(columns=['pendingPenalty'], inplace=True)\n",
    "\n",
    "dfPenalty"
   ]
  },
  {
   "cell_type": "code",
   "execution_count": null,
   "id": "fb345924",
   "metadata": {},
   "outputs": [],
   "source": [
    "mergedTickets = dfTickets.merge(dfPenalty, how='left', on=['driverId', 'date'])\n",
    "\n",
    "mergedTickets"
   ]
  },
  {
   "cell_type": "code",
   "execution_count": null,
   "id": "7d9679ab",
   "metadata": {},
   "outputs": [],
   "source": [
    "mergedTickets[mergedTickets['penalty_cohort'].isna()]"
   ]
  },
  {
   "cell_type": "code",
   "execution_count": null,
   "id": "84def060",
   "metadata": {},
   "outputs": [],
   "source": [
    "dfTxns = prodFetch(\"\"\"\n",
    "    select DATE_FORMAT(date, '%Y-%m') AS month, date, driverId\n",
    "    FROM transactions FORCE INDEX(transaction_date_index)\n",
    "    WHERE date >= '2025-04-01'\n",
    "      AND date < CURRENT_DATE()\n",
    "      AND deletedAt IS NULL\n",
    "      AND clientId = 'BS00'\n",
    "      AND vehicleType NOT IN ('E-2w')\n",
    "\"\"\")\n",
    "\n",
    "dfTxns"
   ]
  },
  {
   "cell_type": "code",
   "execution_count": null,
   "id": "bb9b05c8",
   "metadata": {},
   "outputs": [],
   "source": [
    "dfPenaltyMonth = adbFetch(\"\"\"SELECT\n",
    "    DATE_FORMAT(date, '%Y-%m') AS month,\n",
    "    driverId,\n",
    "    AVG(penaltyWallet) / 100 AS avgPenalty\n",
    "FROM\n",
    "    dailyDriversHistories FORCE INDEX(dailyDriversHistories_date_driverId_unique)\n",
    "WHERE\n",
    "    date >= '2025-04-01'\n",
    "    and date < current_date()\n",
    "    AND deletedAt IS NULL\n",
    "    AND driverId LIKE 'D%'\n",
    "    AND isBaasDriver != 1\n",
    "    AND vehicleType != 'E-2w'\n",
    "    AND clientId = 'BS00'\n",
    "    AND status IN ('active', 'inactive')\n",
    "GROUP BY\n",
    "    month, driverId\"\"\")\n",
    "\n",
    "dfPenaltyMonth\n",
    "bins = [-1, 0, 100, 500, float('inf')]\n",
    "labels = ['0', '1-100', '101-500', '>500']\n",
    "\n",
    "dfPenaltyMonth['penalty_cohort'] = pd.cut(dfPenaltyMonth['avgPenalty'], bins=bins, labels=labels, right=True)\n",
    "\n",
    "dfPenaltyMonth.drop(columns=['avgPenalty'], inplace=True)\n",
    "\n",
    "dfPenaltyMonth"
   ]
  },
  {
   "cell_type": "code",
   "execution_count": null,
   "id": "c20f3e70",
   "metadata": {},
   "outputs": [],
   "source": [
    "dfTxns = prodFetch(\"\"\"\n",
    "    SELECT\n",
    "        DATE_FORMAT(date, '%Y-%m') AS month,\n",
    "        date,\n",
    "        driverId\n",
    "    FROM\n",
    "        transactions FORCE INDEX(transaction_date_index)\n",
    "    WHERE\n",
    "        date >= '2025-04-01'\n",
    "        AND date < CURRENT_DATE()\n",
    "        AND deletedAt IS NULL\n",
    "        AND clientId = 'BS00'\n",
    "        AND vehicleType NOT IN ('E-2w')\n",
    "\"\"\")\n",
    "\n",
    "dfMerged = pd.merge(\n",
    "    dfTxns,\n",
    "    dfPenaltyMonth,  \n",
    "    on=['driverId', 'month'],\n",
    "    how='left'\n",
    ")\n",
    "\n",
    "dfMerged = dfMerged.dropna(subset=['penalty_cohort'])\n",
    "\n",
    "dfCohortUDT = dfMerged.groupby(['month', 'penalty_cohort'])['driverId'] \\\n",
    "                      .nunique() \\\n",
    "                      .reset_index(name='UDT')\n",
    "\n",
    "dfCohortUDT_pivot = dfCohortUDT.pivot(index='penalty_cohort', columns='month', values='UDT') \\\n",
    "                               .fillna(0).astype(int)\n",
    "\n",
    "dfCohortUDT_pivot"
   ]
  },
  {
   "cell_type": "code",
   "execution_count": null,
   "id": "7ab28cd5",
   "metadata": {},
   "outputs": [],
   "source": [
    "grouped = mergedTickets.groupby(['penalty_cohort', 'month', 'issue_name']).agg(\n",
    "    ticketCount=('driverId', 'count'),\n",
    "    UDRT=('driverId', 'nunique')\n",
    ").reset_index()\n",
    "\n",
    "grouped"
   ]
  },
  {
   "cell_type": "code",
   "execution_count": null,
   "id": "a9f8feed",
   "metadata": {},
   "outputs": [],
   "source": [
    "pivoted = grouped.pivot_table(index='penalty_cohort',\n",
    "                               columns=['month', 'issue_name'],\n",
    "                               values=['ticketCount', 'UDRT'],\n",
    "                               fill_value=0)\n",
    "\n",
    "pivoted"
   ]
  },
  {
   "cell_type": "code",
   "execution_count": null,
   "id": "654a7689",
   "metadata": {},
   "outputs": [],
   "source": [
    "reordered_cols = []\n",
    "for month in pivoted.columns.levels[1]:\n",
    "    for issue in pivoted.columns.levels[2]:\n",
    "        if ('UDRT', month, issue) in pivoted.columns and ('ticketCount', month, issue) in pivoted.columns:\n",
    "            reordered_cols.append(('UDRT', month, issue))\n",
    "            reordered_cols.append(('ticketCount', month, issue))\n",
    "\n",
    "pivoted = pivoted[reordered_cols]\n",
    "\n",
    "pivoted"
   ]
  },
  {
   "cell_type": "code",
   "execution_count": null,
   "id": "7321d549",
   "metadata": {},
   "outputs": [],
   "source": [
    "pivoted = pivoted.reset_index(drop=True)\n",
    "\n",
    "pivoted"
   ]
  },
  {
   "cell_type": "code",
   "execution_count": null,
   "id": "2da2febb",
   "metadata": {},
   "outputs": [],
   "source": [
    "write(\"https://docs.google.com/spreadsheets/d/1mm81UqSeCTx166S2SzqNH63lhQemR5tPm8xK5sLO_6U/edit?gid=1251500267#gid=1251500267\", 'penalty cohort analysis-2', pivoted)"
   ]
  },
  {
   "cell_type": "code",
   "execution_count": null,
   "id": "47601c0d",
   "metadata": {},
   "outputs": [],
   "source": [
    "pivoted.columns = [f\"{month} | {issue} | {metric}\" for metric, month, issue in pivoted.columns]\n",
    "\n",
    "pivoted.reset_index(inplace=True)\n",
    "\n",
    "pivoted"
   ]
  },
  {
   "cell_type": "code",
   "execution_count": null,
   "id": "f4975d00",
   "metadata": {},
   "outputs": [],
   "source": [
    "cohort_driver_counts = mergedTickets.groupby('penalty_cohort')['driverId'].nunique().reset_index(name='TotalDrivers')\n",
    "final_df = pd.merge(cohort_driver_counts, pivoted, on='penalty_cohort', how='right')\n",
    "\n",
    "final_df"
   ]
  },
  {
   "cell_type": "code",
   "execution_count": null,
   "id": "7af65dec",
   "metadata": {},
   "outputs": [],
   "source": [
    "final_df['UDT'] = 53499\n",
    "\n",
    "cols = ['UDT'] + [col for col in final_df.columns if col != 'UDT']\n",
    "final_df = final_df[cols]\n",
    "\n",
    "final_df"
   ]
  },
  {
   "cell_type": "code",
   "execution_count": null,
   "id": "87fe3373",
   "metadata": {},
   "outputs": [],
   "source": [
    "for col in final_df.columns:\n",
    "    if pd.api.types.is_categorical_dtype(final_df[col]):\n",
    "        final_df[col] = final_df[col].astype(str)\n",
    "\n",
    "final_df"
   ]
  },
  {
   "cell_type": "code",
   "execution_count": null,
   "id": "3fb539a3",
   "metadata": {},
   "outputs": [],
   "source": [
    "write(\"https://docs.google.com/spreadsheets/d/1mm81UqSeCTx166S2SzqNH63lhQemR5tPm8xK5sLO_6U/edit?gid=1251500267#gid=1251500267\", 'penalty cohort analysis', final_df)"
   ]
  }
 ],
 "metadata": {
  "kernelspec": {
   "display_name": "Python 3",
   "language": "python",
   "name": "python3"
  },
  "language_info": {
   "codemirror_mode": {
    "name": "ipython",
    "version": 3
   },
   "file_extension": ".py",
   "mimetype": "text/x-python",
   "name": "python",
   "nbconvert_exporter": "python",
   "pygments_lexer": "ipython3",
   "version": "3.10.12"
  }
 },
 "nbformat": 4,
 "nbformat_minor": 5
}
