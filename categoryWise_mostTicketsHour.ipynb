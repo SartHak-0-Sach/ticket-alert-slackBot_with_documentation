{
 "cells": [
  {
   "cell_type": "code",
   "execution_count": null,
   "metadata": {},
   "outputs": [],
   "source": [
    "import os, sys\n",
    "# os.chdir(os.path.dirname(os.path.abspath(__file__)))\n",
    "sys.path.append('../utils')\n",
    "import pandas as pd\n",
    "import numpy as np\n",
    "from queryHelper import prodFetch, adbFetch\n",
    "from databaseHelper import *\n",
    "from sheetHelper import *\n",
    "from datetime import timedelta\n",
    "import psycopg2\n",
    "import pygsheets as pg"
   ]
  },
  {
   "cell_type": "code",
   "execution_count": null,
   "metadata": {},
   "outputs": [],
   "source": [
    "dfTickets = adbFetch(\"\"\"select date, EXTRACT(HOUR FROM created_at) AS hour, complainant_id, category_name from ticketModelNew where complainant_type = 'driver' and date between '20250201' and '20250331'\"\"\")\n",
    "\n",
    "dfTickets"
   ]
  },
  {
   "cell_type": "code",
   "execution_count": null,
   "metadata": {},
   "outputs": [],
   "source": [
    "dateWiseTickets = dfTickets.groupby(['date', 'category_name', 'hour']).agg({\n",
    "    'complainant_id': 'count'\n",
    "}).reset_index()\n",
    "\n",
    "dateWiseTickets"
   ]
  },
  {
   "cell_type": "code",
   "execution_count": null,
   "metadata": {},
   "outputs": [],
   "source": [
    "hourWiseTickets = dfTickets.groupby(['date', 'hour']).agg({\n",
    "    'complainant_id': 'count',\n",
    "}).reset_index()\n",
    "\n",
    "hourWiseTickets"
   ]
  },
  {
   "cell_type": "code",
   "execution_count": null,
   "metadata": {},
   "outputs": [],
   "source": [
    "categoryWiseTickets = dfTickets.groupby(['category_name', 'hour']).agg({\n",
    "    'complainant_id': 'count'\n",
    "}).reset_index()\n",
    "\n",
    "categoryWiseTickets"
   ]
  },
  {
   "cell_type": "code",
   "execution_count": null,
   "metadata": {},
   "outputs": [],
   "source": [
    "write(\"https://docs.google.com/spreadsheets/d/1fiA-Ul2K3d8BG4BtkRqvjswgwGx0gpxLCsmNDiYIPGs/edit?gid=0#gid=0\", \"dateWiseTickets\", dateWiseTickets)"
   ]
  },
  {
   "cell_type": "code",
   "execution_count": null,
   "metadata": {},
   "outputs": [],
   "source": [
    "write(\"https://docs.google.com/spreadsheets/d/1fiA-Ul2K3d8BG4BtkRqvjswgwGx0gpxLCsmNDiYIPGs/edit?gid=0#gid=0\", \"hourWiseTickets\", hourWiseTickets)"
   ]
  },
  {
   "cell_type": "code",
   "execution_count": null,
   "metadata": {},
   "outputs": [],
   "source": [
    "write(\"https://docs.google.com/spreadsheets/d/1fiA-Ul2K3d8BG4BtkRqvjswgwGx0gpxLCsmNDiYIPGs/edit?gid=0#gid=0\", \"categoryWiseTickets\", categoryWiseTickets)"
   ]
  }
 ],
 "metadata": {
  "kernelspec": {
   "display_name": "Python 3",
   "language": "python",
   "name": "python3"
  },
  "language_info": {
   "codemirror_mode": {
    "name": "ipython",
    "version": 3
   },
   "file_extension": ".py",
   "mimetype": "text/x-python",
   "name": "python",
   "nbconvert_exporter": "python",
   "pygments_lexer": "ipython3",
   "version": "3.10.12"
  }
 },
 "nbformat": 4,
 "nbformat_minor": 2
}
