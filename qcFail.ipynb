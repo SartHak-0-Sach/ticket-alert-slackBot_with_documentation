{
 "cells": [
  {
   "cell_type": "code",
   "execution_count": null,
   "id": "2dac45c8",
   "metadata": {},
   "outputs": [],
   "source": [
    "import os, sys\n",
    "sys.path.append('../utils')\n",
    "import pandas as pd\n",
    "import numpy as np\n",
    "from queryHelper import prodFetch, adbFetch\n",
    "from databaseHelper import *\n",
    "from sheetHelper import *\n",
    "from datetime import timedelta\n",
    "import psycopg2\n",
    "from datetime import datetime\n",
    "from openpyxl import Workbook"
   ]
  },
  {
   "cell_type": "code",
   "execution_count": null,
   "id": "bc8a7c64",
   "metadata": {},
   "outputs": [],
   "source": [
    "dfTickets = adbFetch(\"\"\" \n",
    "    SELECT\n",
    "        month,\n",
    "        date,\n",
    "        complainant_id as driverId,\n",
    "        category_name,\n",
    "        issue_name,\n",
    "        ticket_status as status,\n",
    "        ticket_id as ticketId\n",
    "    FROM ticketModelNew \n",
    "    WHERE \n",
    "        date>='20250101'\n",
    "        AND source IN ('Inbound', 'driverApp', 'Whatsapp')\n",
    "        AND complainant_type = 'driver'\n",
    "\"\"\")\n",
    "\n",
    "dfTickets"
   ]
  },
  {
   "cell_type": "code",
   "execution_count": null,
   "id": "b87ccfb8",
   "metadata": {},
   "outputs": [],
   "source": [
    "df_qc_failed = dfTickets[dfTickets['status'] == 'qc_failed']\n",
    "df_others = dfTickets[dfTickets['status'] != 'qc_failed']\n",
    "\n",
    "df_qc_failed"
   ]
  },
  {
   "cell_type": "code",
   "execution_count": null,
   "id": "16037b04",
   "metadata": {},
   "outputs": [],
   "source": [
    "df_others"
   ]
  },
  {
   "cell_type": "code",
   "execution_count": null,
   "id": "1bcfba8f",
   "metadata": {},
   "outputs": [],
   "source": [
    "df_pairs = pd.merge(\n",
    "    df_qc_failed,\n",
    "    dfTickets,\n",
    "    on=['driverId', 'category_name', 'issue_name'],\n",
    "    suffixes=('_initial', '_other')\n",
    ")\n",
    "\n",
    "df_pairs = df_pairs[df_pairs['date_initial'] <= df_pairs['date_other']]\n",
    "df_pairs = df_pairs[df_pairs['ticketId_initial'] != df_pairs['ticketId_other']]\n",
    "df_pairsQC = df_pairs[df_pairs['status_other'] == 'qc_failed']\n",
    "df_pairsOther = df_pairs[df_pairs['status_other'] != 'qc_failed']\n",
    "\n",
    "df_pairs"
   ]
  },
  {
   "cell_type": "code",
   "execution_count": null,
   "id": "4738eb59",
   "metadata": {},
   "outputs": [],
   "source": [
    "df_pairsQC"
   ]
  },
  {
   "cell_type": "code",
   "execution_count": null,
   "id": "c0e5e594",
   "metadata": {},
   "outputs": [],
   "source": [
    "df_pairsOther"
   ]
  },
  {
   "cell_type": "code",
   "execution_count": null,
   "id": "b7d1d1aa",
   "metadata": {},
   "outputs": [],
   "source": [
    "df_qc_failed_counts = df_qc_failed.groupby('month').size().reset_index(name='qc_failed_count')\n",
    "\n",
    "df_pairsQC_counts = df_pairsQC.groupby('month_other').size().reset_index(name='followup_qc_failed_count')\n",
    "df_pairsQC_counts.rename(columns={'month_other': 'month'}, inplace=True)\n",
    "\n",
    "df_pairsOther_counts = df_pairsOther.groupby('month_other').size().reset_index(name='followup_other_status_count')\n",
    "df_pairsOther_counts.rename(columns={'month_other': 'month'}, inplace=True)\n",
    "\n",
    "final_df = pd.merge(df_qc_failed_counts, df_pairsQC_counts, on='month', how='outer')\n",
    "final_df = pd.merge(final_df, df_pairsOther_counts, on='month', how='outer')\n",
    "\n",
    "final_df = final_df.fillna(0)\n",
    "\n",
    "final_df[['qc_failed_count', 'followup_qc_failed_count', 'followup_other_status_count']] = final_df[['qc_failed_count', 'followup_qc_failed_count', 'followup_other_status_count']].astype(int)\n",
    "\n",
    "final_df = final_df.sort_values(by='month').reset_index(drop=True)\n",
    "\n",
    "final_df"
   ]
  },
  {
   "cell_type": "code",
   "execution_count": null,
   "id": "b18051ef",
   "metadata": {},
   "outputs": [],
   "source": [
    "write(\"https://docs.google.com/spreadsheets/d/12o-20N6qaZNisLvYD6jkjkACSaYuE-S9U_4x26Fl4ns/edit?gid=0#gid=0\", \"Sheet1\", final_df)"
   ]
  }
 ],
 "metadata": {
  "kernelspec": {
   "display_name": "Python 3",
   "language": "python",
   "name": "python3"
  },
  "language_info": {
   "codemirror_mode": {
    "name": "ipython",
    "version": 3
   },
   "file_extension": ".py",
   "mimetype": "text/x-python",
   "name": "python",
   "nbconvert_exporter": "python",
   "pygments_lexer": "ipython3",
   "version": "3.10.12"
  }
 },
 "nbformat": 4,
 "nbformat_minor": 5
}
