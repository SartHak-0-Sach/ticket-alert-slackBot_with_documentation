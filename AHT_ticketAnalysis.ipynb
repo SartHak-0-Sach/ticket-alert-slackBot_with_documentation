{
 "cells": [
  {
   "cell_type": "code",
   "execution_count": null,
   "metadata": {},
   "outputs": [],
   "source": [
    "import os, sys\n",
    "# os.chdir(os.path.dirname(os.path.abspath(__file__)))\n",
    "sys.path.append('../utils')\n",
    "import pandas as pd\n",
    "import numpy as np\n",
    "from queryHelper import prodFetch, adbFetch\n",
    "from databaseHelper import *\n",
    "from sheetHelper import *\n",
    "from datetime import timedelta"
   ]
  },
  {
   "cell_type": "code",
   "execution_count": null,
   "metadata": {},
   "outputs": [],
   "source": [
    "file_path = r\"C:/Users/Sarthak.Sachdev/Desktop/python-code/notebook/datadump/AmeyoReports/acd_call_details_nov_feb.csv\"\n",
    "\n",
    "dfCallHistory = pd.read_csv(file_path, low_memory=False)\n",
    "\n",
    "print(\"File loaded successfully!\")"
   ]
  },
  {
   "cell_type": "code",
   "execution_count": null,
   "metadata": {},
   "outputs": [],
   "source": [
    "dfCallHistory.head(10)"
   ]
  },
  {
   "cell_type": "code",
   "execution_count": null,
   "metadata": {},
   "outputs": [],
   "source": [
    "dfCallHistory['Call Time'] = pd.to_datetime(dfCallHistory['Call Time'], dayfirst=True, errors='coerce')"
   ]
  },
  {
   "cell_type": "code",
   "execution_count": null,
   "metadata": {},
   "outputs": [],
   "source": [
    "dfCallHistory['Call Date'] = pd.to_datetime(dfCallHistory['Call Time']).dt.date"
   ]
  },
  {
   "cell_type": "code",
   "execution_count": null,
   "metadata": {},
   "outputs": [],
   "source": [
    "dfCallHistory['date'] = dfCallHistory['Call Time'].dt.strftime('%d')"
   ]
  },
  {
   "cell_type": "code",
   "execution_count": null,
   "metadata": {},
   "outputs": [],
   "source": [
    "dfCallHistory['Call Hour'] = pd.to_datetime(dfCallHistory['Call Time']).dt.hour"
   ]
  },
  {
   "cell_type": "code",
   "execution_count": null,
   "metadata": {},
   "outputs": [],
   "source": [
    "dfCallHistory['Call Month'] = pd.to_datetime(dfCallHistory['Call Time']).dt.month.astype(str)"
   ]
  },
  {
   "cell_type": "code",
   "execution_count": null,
   "metadata": {},
   "outputs": [],
   "source": [
    "dfCallHistory"
   ]
  },
  {
   "cell_type": "code",
   "execution_count": null,
   "metadata": {},
   "outputs": [],
   "source": [
    "dfCallHistory['date'] = dfCallHistory['date'].astype(int)"
   ]
  },
  {
   "cell_type": "code",
   "execution_count": null,
   "metadata": {},
   "outputs": [],
   "source": [
    "# Define Week Number\n",
    "\n",
    "conditions = [\n",
    "    (dfCallHistory['date'] >=1) & (dfCallHistory['date'] <=7),\n",
    "    (dfCallHistory['date'] >=8) & (dfCallHistory['date'] <=14),\n",
    "    (dfCallHistory['date'] >=15) & (dfCallHistory['date'] <=21),\n",
    "    (dfCallHistory['date'] >=22) & (dfCallHistory['date'] <=28),\n",
    "    (dfCallHistory['date'] >=29) \n",
    "]\n",
    "\n",
    "choices = ['W1', 'W2', 'W3', 'W4', 'W5']\n",
    "\n",
    "dfCallHistory['Week'] = np.select(conditions, choices, default = 'NA')"
   ]
  },
  {
   "cell_type": "code",
   "execution_count": null,
   "metadata": {},
   "outputs": [],
   "source": [
    "dfCallHistory"
   ]
  },
  {
   "cell_type": "code",
   "execution_count": null,
   "metadata": {},
   "outputs": [],
   "source": [
    "dfCallHistory['Wait Time at ACD (sec)'] = pd.to_timedelta(dfCallHistory['Wait Time at ACD']).dt.total_seconds()\n",
    "dfCallHistory['Total Wait Time (sec)'] = pd.to_timedelta(dfCallHistory['Total Wait Time']).dt.total_seconds()\n",
    "dfCallHistory['Customer Hold Duration (sec)'] = pd.to_timedelta(dfCallHistory['Customer Hold Duration']).dt.total_seconds()\n",
    "dfCallHistory['User Setup Time (sec)'] = pd.to_timedelta(dfCallHistory['User Setup Time']).dt.total_seconds()\n",
    "dfCallHistory['User Ringing Time (sec)'] = pd.to_timedelta(dfCallHistory['User Ringing Time']).dt.total_seconds()\n",
    "dfCallHistory['User Hold Duration (sec)'] = pd.to_timedelta(dfCallHistory['User Hold Duration']).dt.total_seconds()\n",
    "dfCallHistory['User Talk Time (sec)'] = pd.to_timedelta(dfCallHistory['User Talk Time']).dt.total_seconds()\n",
    "dfCallHistory['ACW Duration (sec)'] = pd.to_timedelta(dfCallHistory['ACW Duration']).dt.total_seconds()"
   ]
  },
  {
   "cell_type": "code",
   "execution_count": null,
   "metadata": {},
   "outputs": [],
   "source": [
    "dfCallHistory"
   ]
  },
  {
   "cell_type": "code",
   "execution_count": null,
   "metadata": {},
   "outputs": [],
   "source": [
    "dfCallHistory['AHT_sec'] = dfCallHistory['User Talk Time (sec)'] + dfCallHistory['ACW Duration (sec)'] + dfCallHistory['Customer Hold Duration (sec)'] + dfCallHistory['User Hold Duration (sec)']"
   ]
  },
  {
   "cell_type": "code",
   "execution_count": null,
   "metadata": {},
   "outputs": [],
   "source": [
    "dfCallHistory"
   ]
  },
  {
   "cell_type": "code",
   "execution_count": null,
   "metadata": {},
   "outputs": [],
   "source": [
    "columns_to_drop = ['#', 'Campaign Name', 'Other Filter Groups', 'Applied filter group', 'Table Filters', 'DNIS', 'Call Type', 'Call ID', 'Queue Name', 'Hangup Details', 'Actual Channel', 'Username', 'Queue ID', 'Call Notes', 'Call Time', 'User Disposition Code', 'date', 'Call Month', 'Wait Time at ACD', 'Total Wait Time', 'Customer Hold Duration', 'User Hold Duration', 'User Talk Time', 'ACW Duration', 'User Setup Time', 'User Ringing Time', 'User Hold Duration (sec)', 'Customer Hold Duration (sec)', 'ACW Duration (sec)', 'User Talk Time (sec)', 'Phone']\n",
    "\n",
    "dfCallHistory['Call Month'] = pd.to_numeric(dfCallHistory['Call Month'], errors='coerce')\n",
    "\n",
    "dfCallHistory_filtered = dfCallHistory[dfCallHistory['Call Month'] == 1]\n",
    "\n",
    "dfCallHistory_filtered = dfCallHistory_filtered.drop(columns=columns_to_drop)\n",
    "\n",
    "dfCallHistory_filtered"
   ]
  },
  {
   "cell_type": "code",
   "execution_count": null,
   "metadata": {},
   "outputs": [],
   "source": [
    "dfCallHistory_filtered['answered_flag'] = dfCallHistory_filtered['Answered/Hungup'].apply(lambda x: 1 if x == 'ANSWERED' else 0)\n",
    "\n",
    "dfCallHistory_filtered.drop(columns = ['Answered/Hungup'], inplace=True)"
   ]
  },
  {
   "cell_type": "code",
   "execution_count": null,
   "metadata": {},
   "outputs": [],
   "source": [
    "dfCallHistory_filtered['Cumulative User Talk Time'] = dfCallHistory_filtered['Cumulative User Talk Time'].astype(str)\n",
    "\n",
    "def convert_to_seconds(time_str):\n",
    "    try:\n",
    "        time_parts = time_str.split(':')\n",
    "        if len(time_parts) == 3:\n",
    "            return sum(int(i) * 60 ** (2 - idx) for idx, i in enumerate(time_parts))\n",
    "        else:\n",
    "            raise ValueError(f\"Invalid time format: {time_str}. Expected format: hh:mm:ss\")\n",
    "    except Exception as e:\n",
    "        raise ValueError(f\"Error processing time value '{time_str}': {e}\")\n",
    "\n",
    "# Apply the conversion function\n",
    "dfCallHistory_filtered['Cumulative_User_Talk_Time_sec'] = dfCallHistory_filtered['Cumulative User Talk Time'].apply(convert_to_seconds)\n",
    "\n",
    "dfGrouped_sorted = dfCallHistory_filtered.drop(columns=['Cumulative User Talk Time'])"
   ]
  },
  {
   "cell_type": "code",
   "execution_count": null,
   "metadata": {},
   "outputs": [],
   "source": [
    "dfGrouped_sorted = dfCallHistory_filtered.groupby(['User ID', 'Call Date', 'Call Hour']).agg(\n",
    "    answered_calls=('answered_flag', 'sum'),\n",
    "    Cumulative_User_Talk_Time=('Cumulative_User_Talk_Time_sec', 'sum'),\n",
    "    Wait_Time_at_ACD_sec=('Wait Time at ACD (sec)', 'sum'),\n",
    "    Total_Wait_Time_sec=('Total Wait Time (sec)', 'sum'),\n",
    "    User_Setup_Time_sec=('User Setup Time (sec)', 'sum'),\n",
    "    User_Ringing_Time_sec=('User Ringing Time (sec)', 'sum'),\n",
    "    AHT_sec=('AHT_sec', 'sum'),\n",
    "    total_calls=('User ID', 'size')\n",
    ").reset_index()\n",
    "\n",
    "dfGrouped_sorted = dfGrouped_sorted.sort_values(by=['User ID', 'Call Date', 'Call Hour'])\n",
    "\n",
    "dfGrouped_sorted"
   ]
  },
  {
   "cell_type": "code",
   "execution_count": null,
   "metadata": {},
   "outputs": [],
   "source": [
    "write(\"https://docs.google.com/spreadsheets/d/1pSXAulxdvIxMX_7drSRi_e2Ya-sAod-oYDgbt4IGrAY/edit?gid=975529161#gid=975529161\", \"DSC agentwise data\", dfGrouped_sorted)"
   ]
  },
  {
   "cell_type": "code",
   "execution_count": null,
   "metadata": {},
   "outputs": [],
   "source": [
    "(# Dod Calls\n",
    "\n",
    "(dfCallHistory[(dfCallHistory['Queue Name'].isin([\"Driver_Support_Queue\", \"Driver_Queue\"])) & (dfCallHistory['Answered/Hungup']==\"ANSWERED\") & (dfCallHistory['User Talk Time (sec)'] > 30)].groupby(['Call Date']).agg(totalCalls = ('Call ID','count'), AHT = ('User Talk Time (sec)', 'mean') ).reset_index())).to_clipboard()\n"
   ]
  },
  {
   "cell_type": "code",
   "execution_count": null,
   "metadata": {},
   "outputs": [],
   "source": [
    "# Total Calls\n",
    "\n",
    "dfCallHistory[(dfCallHistory['Queue Name'].isin([\"Driver_Support_Queue\", \"Driver_Queue\"]))].groupby(['Call Month']).agg(totalCalls = ('Call ID','count'))"
   ]
  },
  {
   "cell_type": "code",
   "execution_count": null,
   "metadata": {},
   "outputs": [],
   "source": [
    "# Overall Answered, AWT - Missed , AWT - Answered, AHT - Overall \n",
    "\n",
    "dfCallHistory[(dfCallHistory['Queue Name'].isin([\"Driver_Support_Queue\", \"Driver_Queue\"])) & (dfCallHistory['Answered/Hungup']==\"ANSWERED\")].groupby(['Call Month', 'User ID', 'Answered/Hungup']).agg(call_count = ('Call ID', 'count'), AHT = ('AHT_sec', 'mean'), AWT = ('Wait Time at ACD (sec)', 'mean')).reset_index()"
   ]
  },
  {
   "cell_type": "code",
   "execution_count": null,
   "metadata": {},
   "outputs": [],
   "source": [
    "# Answered Calls > 30 sec - Count and AHT\n",
    "\n",
    "dfCallHistory[(dfCallHistory['User Talk Time (sec)'] > 30) & (dfCallHistory['Queue Name'].isin([\"Driver_Support_Queue\", \"Driver_Queue\"])) ].groupby(['Call Month', 'Answered/Hungup']).agg(call_count = ('Call ID', 'count'), AHT_sec = ('AHT_sec', 'mean')).reset_index()"
   ]
  },
  {
   "cell_type": "code",
   "execution_count": null,
   "metadata": {},
   "outputs": [],
   "source": [
    "# Agent Ring Duration\n",
    "\n",
    "dfCallHistory[(dfCallHistory['Queue Name'].isin([\"Driver_Support_Queue\", \"Driver_Queue\"]))].groupby(['Call Month']).agg(ring_duration = ('User Ringing Time (sec)', 'mean')).reset_index()"
   ]
  },
  {
   "cell_type": "code",
   "execution_count": null,
   "metadata": {},
   "outputs": [],
   "source": [
    "# Missed by Agent - CUSTOMER_HANGUP_PHONE + AGENT_HANGUP_UI + AGENT_HANGUP_PHONE\n",
    "\n",
    "((dfCallHistory[(dfCallHistory['Queue Name'].isin([\"Driver_Support_Queue\", \"Driver_Queue\"])) & (dfCallHistory['Answered/Hungup'] == \"HUNGUP\") & (dfCallHistory['Hangup Details'].isin([\"AGENT_HANGUP_PHONE\", \"AGENT_HANGUP_UI\", \"CUSTOMER_HANGUP_PHONE\"]))].groupby(['Call Month', 'Answered/Hungup']).agg(call_count = ('Call ID', 'count'), AWT = ('Wait Time at ACD (sec)', 'mean')).reset_index()))"
   ]
  },
  {
   "cell_type": "code",
   "execution_count": null,
   "metadata": {},
   "outputs": [],
   "source": [
    "dfCallHistory[(dfCallHistory['User Talk Time (sec)'] > 30) & (dfCallHistory['Queue Name'].isin([\"Driver_Support_Queue\", \"Driver_Queue\"]))].groupby(['Call Month','Queue Name', 'Answered/Hungup']).agg(call_count = ('Call ID', 'count'), AHT = ('AHT_sec', 'mean')).reset_index()"
   ]
  },
  {
   "cell_type": "markdown",
   "metadata": {},
   "source": [
    "# Outbound Calls"
   ]
  },
  {
   "cell_type": "code",
   "execution_count": null,
   "metadata": {},
   "outputs": [],
   "source": [
    "dfOutbound = pd.read_csv(r'../datadump/AmeyoReports/OBOct.csv', low_memory=False)"
   ]
  },
  {
   "cell_type": "code",
   "execution_count": null,
   "metadata": {},
   "outputs": [],
   "source": [
    "dfOutbound"
   ]
  },
  {
   "cell_type": "code",
   "execution_count": null,
   "metadata": {},
   "outputs": [],
   "source": [
    "dfOutbound['Call Type'].unique()"
   ]
  },
  {
   "cell_type": "code",
   "execution_count": null,
   "metadata": {},
   "outputs": [],
   "source": [
    "temp = ['outbound.callback.dial','outbound.manual.dial', 'outbound.manual.preview.dial']"
   ]
  },
  {
   "cell_type": "code",
   "execution_count": null,
   "metadata": {},
   "outputs": [],
   "source": [
    "dfOutbound = dfOutbound[dfOutbound['Call Type'].isin(temp)]"
   ]
  },
  {
   "cell_type": "code",
   "execution_count": null,
   "metadata": {},
   "outputs": [],
   "source": [
    "dfOutbound"
   ]
  },
  {
   "cell_type": "code",
   "execution_count": null,
   "metadata": {},
   "outputs": [],
   "source": [
    "dfOutbound['Call Time'] = pd.to_datetime(dfOutbound['Call Time'],  dayfirst = True, errors = 'coerce')"
   ]
  },
  {
   "cell_type": "code",
   "execution_count": null,
   "metadata": {},
   "outputs": [],
   "source": [
    "dfOutbound"
   ]
  },
  {
   "cell_type": "code",
   "execution_count": null,
   "metadata": {},
   "outputs": [],
   "source": [
    "dfOutbound['Call Date'] = pd.to_datetime(dfOutbound['Call Time'],  dayfirst=True)"
   ]
  },
  {
   "cell_type": "code",
   "execution_count": null,
   "metadata": {},
   "outputs": [],
   "source": [
    "dfOutbound"
   ]
  },
  {
   "cell_type": "code",
   "execution_count": null,
   "metadata": {},
   "outputs": [],
   "source": [
    "dfOutbound['Call Date'] = dfOutbound['Call Date'].dt.date"
   ]
  },
  {
   "cell_type": "code",
   "execution_count": null,
   "metadata": {},
   "outputs": [],
   "source": [
    "dfOutbound"
   ]
  },
  {
   "cell_type": "code",
   "execution_count": null,
   "metadata": {},
   "outputs": [],
   "source": [
    "dfOutbound['Month'] = dfOutbound['Call Time'].dt.strftime('%Y-%m')"
   ]
  },
  {
   "cell_type": "code",
   "execution_count": null,
   "metadata": {},
   "outputs": [],
   "source": [
    "((dfOutbound.groupby(['Month', 'Call Type']).agg( aa = ('Call ID','nunique'), count = ('Call ID','count') ).reset_index()))"
   ]
  },
  {
   "cell_type": "code",
   "execution_count": null,
   "metadata": {},
   "outputs": [],
   "source": [
    "dfOutbound['date'] = dfOutbound['Call Time'].dt.strftime('%d')\n",
    "dfOutbound['date'] = dfOutbound['date'].astype(int)"
   ]
  },
  {
   "cell_type": "code",
   "execution_count": null,
   "metadata": {},
   "outputs": [],
   "source": [
    "# Define Week Number\n",
    "\n",
    "conditions = [\n",
    "    (dfOutbound['date'] >=1) & (dfOutbound['date'] <=7),\n",
    "    (dfOutbound['date'] >=8) & (dfOutbound['date'] <=14),\n",
    "    (dfOutbound['date'] >=15) & (dfOutbound['date'] <=21),\n",
    "    (dfOutbound['date'] >=22) & (dfOutbound['date'] <=28),\n",
    "    (dfOutbound['date'] >=29) \n",
    "]\n",
    "\n",
    "choices = ['W1', 'W2', 'W3', 'W4', 'W5']\n",
    "\n",
    "dfOutbound['Week'] = np.select(conditions, choices, default = 'NA')"
   ]
  },
  {
   "cell_type": "code",
   "execution_count": null,
   "metadata": {},
   "outputs": [],
   "source": [
    "dfOutbound['Customer Setup Time (sec)'] = pd.to_timedelta(dfOutbound['Customer Setup Time']).dt.total_seconds()\n",
    "dfOutbound['Customer Ringing Time (sec)'] = pd.to_timedelta(dfOutbound['Customer Ringing Time']).dt.total_seconds()\n",
    "dfOutbound['IVR Time (sec)'] = pd.to_timedelta(dfOutbound['IVR Time']).dt.total_seconds()\n",
    "dfOutbound['Customer Talk Time (sec)'] = pd.to_timedelta(dfOutbound['Customer Talk Time']).dt.total_seconds()\n",
    "dfOutbound['Customer Hold Duration (sec)'] = pd.to_timedelta(dfOutbound['Customer Hold Duration']).dt.total_seconds()\n",
    "dfOutbound['User Setup Time (sec)'] = pd.to_timedelta(dfOutbound['User Setup Time']).dt.total_seconds()\n",
    "dfOutbound['User Ringing Time (sec)'] = pd.to_timedelta(dfOutbound['User Ringing Time']).dt.total_seconds()\n",
    "dfOutbound['User Talk Time (sec)'] = pd.to_timedelta(dfOutbound['User Talk Time']).dt.total_seconds()\n",
    "dfOutbound['ACW Duration (sec)'] = pd.to_timedelta(dfOutbound['ACW Duration']).dt.total_seconds()"
   ]
  },
  {
   "cell_type": "code",
   "execution_count": null,
   "metadata": {},
   "outputs": [],
   "source": [
    "dfOutbound"
   ]
  },
  {
   "cell_type": "code",
   "execution_count": null,
   "metadata": {},
   "outputs": [],
   "source": [
    "dfOutbound.groupby(['Month', 'Campaign Name'] ).agg(call_count = ('Call ID', 'count'), unique_calls = ('Call ID', 'nunique')).reset_index()"
   ]
  },
  {
   "cell_type": "code",
   "execution_count": null,
   "metadata": {},
   "outputs": [],
   "source": [
    "tempDf = dfOutbound.groupby(['Call ID']).agg(call_count = ('Call Time','count')).reset_index()"
   ]
  },
  {
   "cell_type": "code",
   "execution_count": null,
   "metadata": {},
   "outputs": [],
   "source": [
    "tempDf[tempDf['call_count']!=1]"
   ]
  },
  {
   "cell_type": "code",
   "execution_count": null,
   "metadata": {},
   "outputs": [],
   "source": [
    "dfOutbound[dfOutbound['Call ID']==\"d390-66d7613a-vcall-1009482\"]"
   ]
  },
  {
   "cell_type": "code",
   "execution_count": null,
   "metadata": {},
   "outputs": [],
   "source": [
    "dfOutbound['User ID'].unique()"
   ]
  },
  {
   "cell_type": "code",
   "execution_count": null,
   "metadata": {},
   "outputs": [],
   "source": [
    "dfPSC = read(\"https://docs.google.com/spreadsheets/d/1SD4IXn6v5t4wADY5d4_Sm10IeiKt087__mgNirI6Zww/edit?gid=0#gid=0\", \"Sheet1\")"
   ]
  },
  {
   "cell_type": "code",
   "execution_count": null,
   "metadata": {},
   "outputs": [],
   "source": [
    "dfPSC"
   ]
  },
  {
   "cell_type": "code",
   "execution_count": null,
   "metadata": {},
   "outputs": [],
   "source": [
    "reqCols = ['email', 'PSC Flag']\n",
    "\n",
    "dfPSC = dfPSC[reqCols]"
   ]
  },
  {
   "cell_type": "code",
   "execution_count": null,
   "metadata": {},
   "outputs": [],
   "source": [
    "dfPSC"
   ]
  },
  {
   "cell_type": "code",
   "execution_count": null,
   "metadata": {},
   "outputs": [],
   "source": [
    "dfOutbound = dfOutbound.merge(dfPSC, left_on = 'User ID', right_on = 'email', how = 'left')"
   ]
  },
  {
   "cell_type": "code",
   "execution_count": null,
   "metadata": {},
   "outputs": [],
   "source": [
    "dfOutbound['PSC Flag'] = dfOutbound['PSC Flag'].fillna(0)"
   ]
  },
  {
   "cell_type": "code",
   "execution_count": null,
   "metadata": {},
   "outputs": [],
   "source": [
    "dfOutbound.groupby(['Month', 'PSC Flag']).agg(unique_calls = ('Call ID','nunique'), call_count = ('Call ID','count')).reset_index()"
   ]
  },
  {
   "cell_type": "code",
   "execution_count": null,
   "metadata": {},
   "outputs": [],
   "source": [
    "dfDSCOutbound = dfOutbound[dfOutbound['PSC Flag']==0]"
   ]
  },
  {
   "cell_type": "code",
   "execution_count": null,
   "metadata": {},
   "outputs": [],
   "source": [
    "dfDSCOutbound.info()"
   ]
  },
  {
   "cell_type": "code",
   "execution_count": null,
   "metadata": {},
   "outputs": [],
   "source": [
    "dfDSCOutbound['AHT_sec'] = dfDSCOutbound['Customer Setup Time (sec)'] + dfDSCOutbound['Customer Ringing Time (sec)'] + dfDSCOutbound['User Setup Time (sec)'] + dfDSCOutbound['User Ringing Time (sec)'] + dfDSCOutbound['User Talk Time (sec)'] + dfDSCOutbound['ACW Duration (sec)'] + dfDSCOutbound['Customer Hold Duration (sec)']"
   ]
  },
  {
   "cell_type": "code",
   "execution_count": null,
   "metadata": {},
   "outputs": [],
   "source": [
    "dfDSCOutboundGr = dfDSCOutbound.groupby(['Month','Call ID', 'Call Type']).agg(instances = ('Call ID', 'count'), \n",
    "                                                        customer_setup_time_sec = ('Customer Setup Time (sec)', 'mean'),\n",
    "                                                        customer_ringing_time_sec = ('Customer Ringing Time (sec)', 'mean'),\n",
    "                                                        customer_talk_time_sec = ('Customer Talk Time (sec)', 'mean'),\n",
    "                                                        customer_hold_duration_sec = ('Customer Hold Duration (sec)', 'mean'),\n",
    "                                                        user_setup_time_sec = ('User Setup Time (sec)', 'sum'),\n",
    "                                                        user_ringing_time_sec = ('User Ringing Time (sec)', 'sum') ,\n",
    "                                                        user_talk_time_sec = ('User Talk Time (sec)', 'sum'),\n",
    "                                                        ACW_duration_sec = ('ACW Duration (sec)', 'sum')\n",
    "                                                        ).reset_index()"
   ]
  },
  {
   "cell_type": "code",
   "execution_count": null,
   "metadata": {},
   "outputs": [],
   "source": [
    "dfDSCOutboundGr"
   ]
  },
  {
   "cell_type": "code",
   "execution_count": null,
   "metadata": {},
   "outputs": [],
   "source": [
    "dfDSCOutboundGr['AHT_sec'] = dfDSCOutboundGr['customer_setup_time_sec'] + dfDSCOutboundGr['customer_ringing_time_sec'] + dfDSCOutboundGr['user_setup_time_sec'] + dfDSCOutboundGr['user_ringing_time_sec'] + dfDSCOutboundGr['user_talk_time_sec'] + dfDSCOutboundGr['ACW_duration_sec'] + dfDSCOutboundGr['customer_hold_duration_sec']"
   ]
  },
  {
   "cell_type": "code",
   "execution_count": null,
   "metadata": {},
   "outputs": [],
   "source": [
    "dfDSCOutboundGr[dfDSCOutboundGr['instances']!=1]"
   ]
  },
  {
   "cell_type": "code",
   "execution_count": null,
   "metadata": {},
   "outputs": [],
   "source": [
    "dfDSCOutboundGr[(dfDSCOutboundGr['Call Type']=='outbound.manual.dial') & (dfDSCOutboundGr['instances']!=1)]"
   ]
  },
  {
   "cell_type": "code",
   "execution_count": null,
   "metadata": {},
   "outputs": [],
   "source": [
    "dfDSCOutboundGr['Call Type'].unique()"
   ]
  },
  {
   "cell_type": "code",
   "execution_count": null,
   "metadata": {},
   "outputs": [],
   "source": [
    "dfDSCOutboundGr.groupby('Month').agg({'Call ID':'nunique'}).reset_index()"
   ]
  },
  {
   "cell_type": "code",
   "execution_count": null,
   "metadata": {},
   "outputs": [],
   "source": [
    "dfDSCOutboundGr.groupby('Month').agg({'instances':'sum'}).reset_index()"
   ]
  },
  {
   "cell_type": "code",
   "execution_count": null,
   "metadata": {},
   "outputs": [],
   "source": [
    "dfDSCOutboundGr.groupby('Month').agg(connected_call_count = ('instances', 'sum'), handling_time = ('AHT_sec', 'sum'), Avg_handling_time = ('AHT_sec', 'mean')).reset_index()"
   ]
  },
  {
   "cell_type": "code",
   "execution_count": null,
   "metadata": {},
   "outputs": [],
   "source": [
    "dfDSCOutbound[dfDSCOutbound['System Disposition']=='CONNECTED'].groupby('Month').agg(connected_call_count = ('Call ID', 'count')).reset_index()"
   ]
  },
  {
   "cell_type": "code",
   "execution_count": null,
   "metadata": {},
   "outputs": [],
   "source": [
    "dfDSCOutbound.groupby(['Month','System Disposition']).agg(call_count = ('Call ID', 'count')).reset_index()"
   ]
  },
  {
   "cell_type": "code",
   "execution_count": null,
   "metadata": {},
   "outputs": [],
   "source": [
    "dfDSCOutbound[(dfDSCOutbound['System Disposition']=='CONNECTED')].groupby('Month').agg(connected_call_count = ('Call ID', 'count'), aht = ('AHT_sec', 'mean')).reset_index()"
   ]
  },
  {
   "cell_type": "code",
   "execution_count": null,
   "metadata": {},
   "outputs": [],
   "source": [
    "dfDSCOutbound[(dfDSCOutbound['System Disposition']=='CONNECTED') & (dfDSCOutbound['User Talk Time (sec)']<= 30) ].groupby('Month').agg(connected_call_count = ('Call ID', 'count')).reset_index()"
   ]
  }
 ],
 "metadata": {
  "kernelspec": {
   "display_name": "Python 3",
   "language": "python",
   "name": "python3"
  },
  "language_info": {
   "codemirror_mode": {
    "name": "ipython",
    "version": 3
   },
   "file_extension": ".py",
   "mimetype": "text/x-python",
   "name": "python",
   "nbconvert_exporter": "python",
   "pygments_lexer": "ipython3",
   "version": "3.13.2"
  }
 },
 "nbformat": 4,
 "nbformat_minor": 2
}
