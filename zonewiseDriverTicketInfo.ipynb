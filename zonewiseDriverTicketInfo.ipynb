{
 "cells": [
  {
   "cell_type": "code",
   "execution_count": null,
   "metadata": {},
   "outputs": [],
   "source": [
    "import os, sys\n",
    "sys.path.append('../utils')\n",
    "import pandas as pd\n",
    "import numpy as np\n",
    "from queryHelper import prodFetch, adbFetch\n",
    "from databaseHelper import *\n",
    "from sheetHelper import *\n",
    "from datetime import timedelta\n",
    "import psycopg2\n",
    "from datetime import datetime\n",
    "from openpyxl import Workbook"
   ]
  },
  {
   "cell_type": "code",
   "execution_count": null,
   "metadata": {},
   "outputs": [],
   "source": [
    "dfDrivers = prodFetch(\"\"\"select zoneId, count(distinct operatorId), count(id) from drivers where isBaaSDriver!=1 and isDeliveryDriver!=1 and vehicleType!='E-2w' and clientId = 'BS00' and zoneId = 'LKR08' and id like 'D%' and operatorId is not null and status in ('active', 'inactive')\"\"\")\n",
    "\n",
    "dfDrivers"
   ]
  },
  {
   "cell_type": "code",
   "execution_count": null,
   "metadata": {},
   "outputs": [],
   "source": [
    "dfDrivers3 = prodFetch(\"\"\"select zoneId, count(distinct operatorId), count(id) from drivers where isBaaSDriver!=1 and isDeliveryDriver!=1 and vehicleType!='E-2w' and clientId = 'BS00' and zoneId = 'LKR08' and id like 'D%' and operatorId is null and status in ('active', 'inactive')\"\"\")\n",
    "\n",
    "dfDrivers3"
   ]
  },
  {
   "cell_type": "code",
   "execution_count": null,
   "metadata": {},
   "outputs": [],
   "source": [
    "dfDrivers2 = prodFetch(\"\"\"select zoneId, count(id) from drivers where isBaaSDriver!=1 and isDeliveryDriver!=1 and vehicleType!='E-2w' and clientId = 'BS00' and zoneId = 'LKR08' and id like 'D%' and status in ('active', 'inactive')\"\"\")\n",
    "\n",
    "dfDrivers2"
   ]
  },
  {
   "cell_type": "code",
   "execution_count": null,
   "metadata": {},
   "outputs": [],
   "source": [
    "drivers = prodFetch(\"\"\"select id from drivers where isBaaSDriver!=1 and isDeliveryDriver!=1 and vehicleType!='E-2w' and clientId = 'BS00' and zoneId = 'LKR08' and id like 'D%' and status in ('active', 'inactive')\"\"\")\n",
    "\n",
    "driversList = tuple(drivers['id'].unique())\n",
    "\n",
    "print(len(driversList))\n",
    "driversList"
   ]
  },
  {
   "cell_type": "code",
   "execution_count": null,
   "metadata": {},
   "outputs": [],
   "source": [
    "txns = prodFetch(f\"\"\"select driverId, date, count(*) txnCount from transactions where deletedAt is null and driverId in {driversList} and date >= date_add(current_date(), interval -30 day) group by driverId, date\"\"\")\n",
    "\n",
    "txns"
   ]
  },
  {
   "cell_type": "code",
   "execution_count": null,
   "metadata": {},
   "outputs": [],
   "source": [
    "grouped = txns.groupby(['driverId'], as_index=False).agg({\n",
    "    'txnCount': 'mean'\n",
    "})\n",
    "\n",
    "grouped.rename(columns={'txnCount': 'dailyMeanTxns'}, inplace=True)\n",
    "\n",
    "grouped"
   ]
  },
  {
   "cell_type": "code",
   "execution_count": null,
   "metadata": {},
   "outputs": [],
   "source": [
    "grouped.nunique()"
   ]
  },
  {
   "cell_type": "code",
   "execution_count": null,
   "metadata": {},
   "outputs": [],
   "source": [
    "oneSwap = grouped[grouped['dailyMeanTxns'] >= 2].nunique()\n",
    "oneSwap"
   ]
  },
  {
   "cell_type": "code",
   "execution_count": null,
   "metadata": {},
   "outputs": [],
   "source": [
    "oneSwap = grouped[grouped['dailyMeanTxns'] < 2].nunique()\n",
    "oneSwap"
   ]
  },
  {
   "cell_type": "code",
   "execution_count": null,
   "metadata": {},
   "outputs": [],
   "source": [
    "ticket = adbFetch(f\"\"\"select complainant_id, calling_number, mobile, alternate_mobile, primary_number, source from ticketModelNew where complainant_id in {driversList} and complainant_type = \"driver\" and date >= '20250308' and date < '20250408' and source in ('Inbound', 'Whatsapp', 'driverApp')\"\"\")\n",
    "\n",
    "ticket"
   ]
  },
  {
   "cell_type": "code",
   "execution_count": null,
   "metadata": {},
   "outputs": [],
   "source": [
    "# Fixing the row-wise comparison\n",
    "ticket['Registered'] = ticket.apply(lambda row: 1 if row['calling_number'] == row['mobile'] else 0, axis=1)\n",
    "ticket['Alternate Mobile'] = ticket.apply(lambda row: 1 if row['calling_number'] == row['alternate_mobile'] else 0, axis=1)\n",
    "ticket['Primary'] = ticket.apply(lambda row: 1 if row['calling_number'] == row['primary_number'] else 0, axis=1)\n",
    "\n",
    "# Others = not in any of the above categories\n",
    "ticket['Others'] = (\n",
    "    (ticket['Registered'] == 0) &\n",
    "    (ticket['Alternate Mobile'] == 0) &\n",
    "    (ticket['Primary'] == 0)\n",
    ").astype(int)\n",
    "\n",
    "ticket"
   ]
  },
  {
   "cell_type": "code",
   "execution_count": null,
   "metadata": {},
   "outputs": [],
   "source": [
    "number_categories = {\n",
    "    'Primary': 'Primary',\n",
    "    'Others': 'Others',\n",
    "    'Registered': 'Registered',\n",
    "    'Alternate Mobile': 'Alternate Mobile'\n",
    "}\n",
    "\n",
    "summary_data = []\n",
    "\n",
    "for col, label in number_categories.items():\n",
    "    df_filtered = ticket[ticket[col] == 1]\n",
    "    total_calls = len(df_filtered)\n",
    "    unique_drivers = df_filtered['complainant_id'].nunique()\n",
    "    percentage = round((total_calls / len(ticket)) * 100, 2)\n",
    "    calls_per_driver = round(total_calls / unique_drivers, 2) if unique_drivers else 0\n",
    "\n",
    "    summary_data.append({\n",
    "        'number_category': label,\n",
    "        'total_calls': total_calls,\n",
    "        'unique_drivers': unique_drivers,\n",
    "        'percentage': percentage,\n",
    "        'calls per unique drivers': int(calls_per_driver)\n",
    "    })\n",
    "\n",
    "summary_df = pd.DataFrame(summary_data)\n",
    "\n",
    "# Add total row\n",
    "total_row = {\n",
    "    'number_category': 'Total',\n",
    "    'total_calls': summary_df['total_calls'].sum(),\n",
    "    'unique_drivers': summary_df['unique_drivers'].sum(),\n",
    "    'percentage': 100,\n",
    "    'calls per unique drivers': round(summary_df['total_calls'].sum() / summary_df['unique_drivers'].sum())\n",
    "}\n",
    "summary_df = pd.concat([summary_df, pd.DataFrame([total_row])], ignore_index=True)\n",
    "\n",
    "summary_df"
   ]
  },
  {
   "cell_type": "code",
   "execution_count": null,
   "metadata": {},
   "outputs": [],
   "source": [
    "len(ticket)"
   ]
  }
 ],
 "metadata": {
  "kernelspec": {
   "display_name": "Python 3",
   "language": "python",
   "name": "python3"
  },
  "language_info": {
   "codemirror_mode": {
    "name": "ipython",
    "version": 3
   },
   "file_extension": ".py",
   "mimetype": "text/x-python",
   "name": "python",
   "nbconvert_exporter": "python",
   "pygments_lexer": "ipython3",
   "version": "3.10.12"
  }
 },
 "nbformat": 4,
 "nbformat_minor": 2
}
